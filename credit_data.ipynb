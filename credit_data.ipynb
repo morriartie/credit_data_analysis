{
 "cells": [
  {
   "cell_type": "code",
   "execution_count": 1,
   "metadata": {},
   "outputs": [
    {
     "name": "stdout",
     "output_type": "stream",
     "text": [
      "Requirement already satisfied: chardet in /usr/lib/python3/dist-packages (3.0.4)\n",
      "Requirement already satisfied: tqdm in /home/gnpsantos@raiadrogasil.com/.local/lib/python3.8/site-packages (4.60.0)\n",
      "Collecting auto-sklearn\n",
      "  Downloading auto-sklearn-0.14.7.tar.gz (6.4 MB)\n",
      "\u001b[K     |████████████████████████████████| 6.4 MB 1.5 MB/s eta 0:00:01\n",
      "\u001b[?25hCollecting ConfigSpace<0.5,>=0.4.21\n",
      "  Downloading ConfigSpace-0.4.21-cp38-cp38-manylinux_2_17_x86_64.manylinux2014_x86_64.whl (4.9 MB)\n",
      "\u001b[K     |████████████████████████████████| 4.9 MB 19.6 MB/s eta 0:00:01     |█▉                              | 276 kB 19.6 MB/s eta 0:00:01\n",
      "\u001b[?25hCollecting dask>=2021.12\n",
      "  Downloading dask-2022.7.0-py3-none-any.whl (1.1 MB)\n",
      "\u001b[K     |████████████████████████████████| 1.1 MB 45.0 MB/s eta 0:00:01\n",
      "\u001b[?25hCollecting distributed>=2012.12\n",
      "  Downloading distributed-2022.7.0-py3-none-any.whl (885 kB)\n",
      "\u001b[K     |████████████████████████████████| 885 kB 93.7 MB/s eta 0:00:01\n",
      "\u001b[?25hRequirement already satisfied: distro in /usr/lib/python3/dist-packages (from auto-sklearn) (1.4.0)\n",
      "Requirement already satisfied: joblib in /home/gnpsantos@raiadrogasil.com/.local/lib/python3.8/site-packages (from auto-sklearn) (1.0.1)\n",
      "Collecting liac-arff\n",
      "  Downloading liac-arff-2.5.0.tar.gz (13 kB)\n",
      "Requirement already satisfied: numpy>=1.9.0 in /home/gnpsantos@raiadrogasil.com/.local/lib/python3.8/site-packages (from auto-sklearn) (1.20.3)\n",
      "Requirement already satisfied: pandas>=1.0 in /home/gnpsantos@raiadrogasil.com/.local/lib/python3.8/site-packages (from auto-sklearn) (1.2.4)\n",
      "Collecting pynisher<0.7,>=0.6.3\n",
      "  Downloading pynisher-0.6.4.tar.gz (11 kB)\n",
      "Collecting pyrfr<0.9,>=0.8.1\n",
      "  Downloading pyrfr-0.8.3-cp38-cp38-manylinux_2_17_x86_64.manylinux2014_x86_64.whl (4.4 MB)\n",
      "\u001b[K     |████████████████████████████████| 4.4 MB 20.8 MB/s eta 0:00:01\n",
      "\u001b[?25hRequirement already satisfied: pyyaml in /usr/lib/python3/dist-packages (from auto-sklearn) (5.3.1)\n",
      "Requirement already satisfied: scikit-learn<0.25.0,>=0.24.0 in /home/gnpsantos@raiadrogasil.com/.local/lib/python3.8/site-packages (from auto-sklearn) (0.24.2)\n",
      "Collecting scipy>=1.7.0\n",
      "  Downloading scipy-1.8.1-cp38-cp38-manylinux_2_17_x86_64.manylinux2014_x86_64.whl (41.6 MB)\n",
      "\u001b[K     |████████████████████████████████| 41.6 MB 28.4 MB/s eta 0:00:01\n",
      "\u001b[?25hRequirement already satisfied: setuptools in /usr/lib/python3/dist-packages (from auto-sklearn) (45.2.0)\n",
      "Collecting smac<1.3,>=1.2\n",
      "  Downloading smac-1.2.tar.gz (260 kB)\n",
      "\u001b[K     |████████████████████████████████| 260 kB 25.8 MB/s eta 0:00:01\n",
      "\u001b[?25hRequirement already satisfied: threadpoolctl in /home/gnpsantos@raiadrogasil.com/.local/lib/python3.8/site-packages (from auto-sklearn) (2.1.0)\n",
      "Requirement already satisfied: typing_extensions in /home/gnpsantos@raiadrogasil.com/.local/lib/python3.8/site-packages (from auto-sklearn) (3.10.0.0)\n",
      "Requirement already satisfied: pyparsing in /home/gnpsantos@raiadrogasil.com/.local/lib/python3.8/site-packages (from ConfigSpace<0.5,>=0.4.21->auto-sklearn) (2.4.7)\n",
      "Collecting cython\n",
      "  Downloading Cython-0.29.30-cp38-cp38-manylinux_2_17_x86_64.manylinux2014_x86_64.manylinux_2_24_x86_64.whl (1.9 MB)\n",
      "\u001b[K     |████████████████████████████████| 1.9 MB 103.7 MB/s eta 0:00:01     |█████████▎                      | 563 kB 103.7 MB/s eta 0:00:01 | 1.7 MB 103.7 MB/s eta 0:00:01\n",
      "\u001b[?25hRequirement already satisfied: packaging>=20.0 in /home/gnpsantos@raiadrogasil.com/.local/lib/python3.8/site-packages (from dask>=2021.12->auto-sklearn) (20.9)\n",
      "Collecting partd>=0.3.10\n",
      "  Downloading partd-1.2.0-py3-none-any.whl (19 kB)\n",
      "Collecting toolz>=0.8.2\n",
      "  Downloading toolz-0.12.0-py3-none-any.whl (55 kB)\n",
      "\u001b[K     |████████████████████████████████| 55 kB 8.4 MB/s  eta 0:00:01\n",
      "\u001b[?25hRequirement already satisfied: cloudpickle>=1.1.1 in /home/gnpsantos@raiadrogasil.com/.local/lib/python3.8/site-packages (from dask>=2021.12->auto-sklearn) (1.6.0)\n",
      "Requirement already satisfied: fsspec>=0.6.0 in /home/gnpsantos@raiadrogasil.com/.local/lib/python3.8/site-packages (from dask>=2021.12->auto-sklearn) (2022.1.0)\n",
      "Requirement already satisfied: tornado<6.2,>=6.0.3 in /home/gnpsantos@raiadrogasil.com/.local/lib/python3.8/site-packages (from distributed>=2012.12->auto-sklearn) (6.1)\n",
      "Collecting locket>=1.0.0\n",
      "  Downloading locket-1.0.0-py2.py3-none-any.whl (4.4 kB)\n",
      "Requirement already satisfied: psutil>=5.0 in /home/gnpsantos@raiadrogasil.com/.local/lib/python3.8/site-packages (from distributed>=2012.12->auto-sklearn) (5.8.0)\n",
      "Requirement already satisfied: jinja2 in /home/gnpsantos@raiadrogasil.com/.local/lib/python3.8/site-packages (from distributed>=2012.12->auto-sklearn) (3.0.1)\n",
      "Collecting sortedcontainers!=2.0.0,!=2.0.1\n",
      "  Downloading sortedcontainers-2.4.0-py2.py3-none-any.whl (29 kB)\n",
      "Requirement already satisfied: urllib3 in /usr/lib/python3/dist-packages (from distributed>=2012.12->auto-sklearn) (1.25.8)\n",
      "Collecting zict>=0.1.3\n",
      "  Downloading zict-2.2.0-py2.py3-none-any.whl (23 kB)\n",
      "Requirement already satisfied: click>=6.6 in /usr/lib/python3/dist-packages (from distributed>=2012.12->auto-sklearn) (7.0)\n",
      "Requirement already satisfied: msgpack>=0.6.0 in /home/gnpsantos@raiadrogasil.com/.local/lib/python3.8/site-packages (from distributed>=2012.12->auto-sklearn) (1.0.3)\n",
      "Collecting tblib>=1.6.0\n",
      "  Downloading tblib-1.7.0-py2.py3-none-any.whl (12 kB)\n",
      "Requirement already satisfied: pytz>=2017.3 in /usr/lib/python3/dist-packages (from pandas>=1.0->auto-sklearn) (2019.3)\n",
      "Requirement already satisfied: python-dateutil>=2.7.3 in /usr/lib/python3/dist-packages (from pandas>=1.0->auto-sklearn) (2.7.3)\n",
      "Collecting emcee>=3.0.0\n",
      "  Downloading emcee-3.1.2-py2.py3-none-any.whl (46 kB)\n",
      "\u001b[K     |████████████████████████████████| 46 kB 3.7 MB/s  eta 0:00:01\n",
      "\u001b[?25hRequirement already satisfied: MarkupSafe>=2.0 in /home/gnpsantos@raiadrogasil.com/.local/lib/python3.8/site-packages (from jinja2->distributed>=2012.12->auto-sklearn) (2.0.1)\n",
      "Collecting heapdict\n",
      "  Downloading HeapDict-1.0.1-py3-none-any.whl (3.9 kB)\n",
      "Building wheels for collected packages: auto-sklearn, liac-arff, pynisher, smac\n",
      "  Building wheel for auto-sklearn (setup.py) ... \u001b[?25ldone\n",
      "\u001b[?25h  Created wheel for auto-sklearn: filename=auto_sklearn-0.14.7-py3-none-any.whl size=6602856 sha256=582dd5d9ba6eaad626039c7c4d526b9d9cc794550efaeb5565bf44c22f46a79d\n",
      "  Stored in directory: /home/gnpsantos@raiadrogasil.com/.cache/pip/wheels/ad/44/ae/830c6d6190da34d4c9d8bdc1a26e2c84bd30b606181530955b\n",
      "  Building wheel for liac-arff (setup.py) ... \u001b[?25ldone\n",
      "\u001b[?25h  Created wheel for liac-arff: filename=liac_arff-2.5.0-py3-none-any.whl size=11731 sha256=197886f532c5fb3f5dc0670320642d2dbdd5a4f4ede2fd0ebed09282cc5ca3e5\n",
      "  Stored in directory: /home/gnpsantos@raiadrogasil.com/.cache/pip/wheels/a2/de/68/bf3972de3ecb31e32bef59a7f4c75f0687a3674c476b347c14\n",
      "  Building wheel for pynisher (setup.py) ... \u001b[?25ldone\n",
      "\u001b[?25h  Created wheel for pynisher: filename=pynisher-0.6.4-py3-none-any.whl size=7040 sha256=8c1838ee93b242b9b5df01050a69f8331004cdb7117035c19c9d15e1b5c23321\n",
      "  Stored in directory: /home/gnpsantos@raiadrogasil.com/.cache/pip/wheels/a7/0b/c3/169e35bcd72f20d0d5e24c37dd2dff8282cc16c06df9762ff5\n",
      "  Building wheel for smac (setup.py) ... \u001b[?25ldone\n",
      "\u001b[?25h  Created wheel for smac: filename=smac-1.2-py3-none-any.whl size=215920 sha256=161cee5bcfe9f9e5fde3a6c01d842fbd05e9f85dff386c81c1c0ee7a3797fc90\n",
      "  Stored in directory: /home/gnpsantos@raiadrogasil.com/.cache/pip/wheels/1c/0d/63/29515e546f52561bf5ff41e3968fe2c35afe4ae366be54b2c4\n",
      "Successfully built auto-sklearn liac-arff pynisher smac\n",
      "\u001b[31mERROR: tensorflow 2.2.0 has requirement scipy==1.4.1; python_version >= \"3\", but you'll have scipy 1.8.1 which is incompatible.\u001b[0m\n",
      "Installing collected packages: scipy, cython, ConfigSpace, toolz, locket, partd, dask, sortedcontainers, heapdict, zict, tblib, distributed, liac-arff, pynisher, pyrfr, emcee, smac, auto-sklearn\n",
      "  Attempting uninstall: scipy\n",
      "    Found existing installation: scipy 1.4.1\n",
      "    Uninstalling scipy-1.4.1:\n",
      "      Successfully uninstalled scipy-1.4.1\n",
      "Successfully installed ConfigSpace-0.4.21 auto-sklearn-0.14.7 cython-0.29.30 dask-2022.7.0 distributed-2022.7.0 emcee-3.1.2 heapdict-1.0.1 liac-arff-2.5.0 locket-1.0.0 partd-1.2.0 pynisher-0.6.4 pyrfr-0.8.3 scipy-1.8.1 smac-1.2 sortedcontainers-2.4.0 tblib-1.7.0 toolz-0.12.0 zict-2.2.0\n"
     ]
    }
   ],
   "source": [
    "!pip install auto-sklearn"
   ]
  },
  {
   "cell_type": "code",
   "execution_count": 152,
   "metadata": {},
   "outputs": [],
   "source": [
    "from datetime import datetime as dt\n",
    "from datetime import timedelta\n",
    "import random\n",
    "import chardet\n",
    "\n",
    "\n",
    "import pandas as pd\n",
    "import seaborn as sns\n",
    "from sklearn.multiclass import OneVsRestClassifier\n",
    "from sklearn.svm import LinearSVC\n",
    "from sklearn import metrics\n",
    "from tqdm import tqdm\n",
    "import matplotlib.pyplot as plt\n",
    "import numpy as np"
   ]
  },
  {
   "cell_type": "code",
   "execution_count": 105,
   "metadata": {},
   "outputs": [],
   "source": [
    "FILENAME = \"MiBolsillo.csv\"\n",
    "ENCODING = chardet.detect(open(FILENAME,'rb').read())['encoding'] # finding the encoding used in the document"
   ]
  },
  {
   "cell_type": "code",
   "execution_count": 106,
   "metadata": {},
   "outputs": [],
   "source": [
    "df = pd.read_csv(FILENAME, sep=';', encoding=ENCODING, decimal=',', thousands='.')\n",
    "df.columns = map(lambda x: x.strip(), df.columns) # removing leading and trailing whitespaces, and double spaces"
   ]
  },
  {
   "cell_type": "code",
   "execution_count": 107,
   "metadata": {},
   "outputs": [
    {
     "data": {
      "text/html": [
       "<div>\n",
       "<style scoped>\n",
       "    .dataframe tbody tr th:only-of-type {\n",
       "        vertical-align: middle;\n",
       "    }\n",
       "\n",
       "    .dataframe tbody tr th {\n",
       "        vertical-align: top;\n",
       "    }\n",
       "\n",
       "    .dataframe thead th {\n",
       "        text-align: right;\n",
       "    }\n",
       "</style>\n",
       "<table border=\"1\" class=\"dataframe\">\n",
       "  <thead>\n",
       "    <tr style=\"text-align: right;\">\n",
       "      <th></th>\n",
       "      <th>id</th>\n",
       "      <th>safra_abertura</th>\n",
       "      <th>cidade</th>\n",
       "      <th>estado</th>\n",
       "      <th>idade</th>\n",
       "      <th>sexo</th>\n",
       "      <th>limite_total</th>\n",
       "      <th>limite_disp</th>\n",
       "      <th>data</th>\n",
       "      <th>valor</th>\n",
       "      <th>grupo_estabelecimento</th>\n",
       "      <th>cidade_estabelecimento</th>\n",
       "      <th>pais_estabelecimento</th>\n",
       "    </tr>\n",
       "  </thead>\n",
       "  <tbody>\n",
       "    <tr>\n",
       "      <th>0</th>\n",
       "      <td>4.530000e+11</td>\n",
       "      <td>201405</td>\n",
       "      <td>CAMPO LIMPO PAULISTA</td>\n",
       "      <td>SP</td>\n",
       "      <td>37</td>\n",
       "      <td>F</td>\n",
       "      <td>4700</td>\n",
       "      <td>5605</td>\n",
       "      <td>4122019</td>\n",
       "      <td>31</td>\n",
       "      <td>SERVI‚O</td>\n",
       "      <td>SAO PAULO</td>\n",
       "      <td>BR</td>\n",
       "    </tr>\n",
       "    <tr>\n",
       "      <th>1</th>\n",
       "      <td>4.530000e+11</td>\n",
       "      <td>201405</td>\n",
       "      <td>CAMPO LIMPO PAULISTA</td>\n",
       "      <td>SP</td>\n",
       "      <td>37</td>\n",
       "      <td>F</td>\n",
       "      <td>4700</td>\n",
       "      <td>5343</td>\n",
       "      <td>9112019</td>\n",
       "      <td>150,01</td>\n",
       "      <td>FARMACIAS</td>\n",
       "      <td>SANTOS</td>\n",
       "      <td>BR</td>\n",
       "    </tr>\n",
       "    <tr>\n",
       "      <th>2</th>\n",
       "      <td>4.530000e+11</td>\n",
       "      <td>201405</td>\n",
       "      <td>CAMPO LIMPO PAULISTA</td>\n",
       "      <td>SP</td>\n",
       "      <td>37</td>\n",
       "      <td>F</td>\n",
       "      <td>4700</td>\n",
       "      <td>2829</td>\n",
       "      <td>6052019</td>\n",
       "      <td>50</td>\n",
       "      <td>SERVI‚O</td>\n",
       "      <td>SAO PAULO</td>\n",
       "      <td>BR</td>\n",
       "    </tr>\n",
       "    <tr>\n",
       "      <th>3</th>\n",
       "      <td>4.530000e+11</td>\n",
       "      <td>201405</td>\n",
       "      <td>CAMPO LIMPO PAULISTA</td>\n",
       "      <td>SP</td>\n",
       "      <td>37</td>\n",
       "      <td>F</td>\n",
       "      <td>4700</td>\n",
       "      <td>2547</td>\n",
       "      <td>1062019</td>\n",
       "      <td>54,4</td>\n",
       "      <td>M.O.T.O.</td>\n",
       "      <td>OSASCO</td>\n",
       "      <td>BR</td>\n",
       "    </tr>\n",
       "    <tr>\n",
       "      <th>4</th>\n",
       "      <td>4.530000e+11</td>\n",
       "      <td>201405</td>\n",
       "      <td>CAMPO LIMPO PAULISTA</td>\n",
       "      <td>SP</td>\n",
       "      <td>37</td>\n",
       "      <td>F</td>\n",
       "      <td>4700</td>\n",
       "      <td>2515</td>\n",
       "      <td>1062019</td>\n",
       "      <td>32,79</td>\n",
       "      <td>M.O.T.O.</td>\n",
       "      <td>OSASCO</td>\n",
       "      <td>BR</td>\n",
       "    </tr>\n",
       "    <tr>\n",
       "      <th>...</th>\n",
       "      <td>...</td>\n",
       "      <td>...</td>\n",
       "      <td>...</td>\n",
       "      <td>...</td>\n",
       "      <td>...</td>\n",
       "      <td>...</td>\n",
       "      <td>...</td>\n",
       "      <td>...</td>\n",
       "      <td>...</td>\n",
       "      <td>...</td>\n",
       "      <td>...</td>\n",
       "      <td>...</td>\n",
       "      <td>...</td>\n",
       "    </tr>\n",
       "    <tr>\n",
       "      <th>4950</th>\n",
       "      <td>9.190000e+11</td>\n",
       "      <td>201910</td>\n",
       "      <td>SAO PAULO</td>\n",
       "      <td>SP</td>\n",
       "      <td>37</td>\n",
       "      <td>M</td>\n",
       "      <td>8500</td>\n",
       "      <td>5305</td>\n",
       "      <td>23012020</td>\n",
       "      <td>25,5</td>\n",
       "      <td>RESTAURANTE</td>\n",
       "      <td>SAO PAULO</td>\n",
       "      <td>BR</td>\n",
       "    </tr>\n",
       "    <tr>\n",
       "      <th>4951</th>\n",
       "      <td>9.190000e+11</td>\n",
       "      <td>201910</td>\n",
       "      <td>SAO PAULO</td>\n",
       "      <td>SP</td>\n",
       "      <td>37</td>\n",
       "      <td>M</td>\n",
       "      <td>8500</td>\n",
       "      <td>5266</td>\n",
       "      <td>23012020</td>\n",
       "      <td>39,5</td>\n",
       "      <td>SUPERMERCADOS</td>\n",
       "      <td>SAO PAULO</td>\n",
       "      <td>BR</td>\n",
       "    </tr>\n",
       "    <tr>\n",
       "      <th>4952</th>\n",
       "      <td>9.190000e+11</td>\n",
       "      <td>201910</td>\n",
       "      <td>SAO PAULO</td>\n",
       "      <td>SP</td>\n",
       "      <td>37</td>\n",
       "      <td>M</td>\n",
       "      <td>8500</td>\n",
       "      <td>5445</td>\n",
       "      <td>19022020</td>\n",
       "      <td>75,56</td>\n",
       "      <td>RESTAURANTE</td>\n",
       "      <td>SAO PAULO</td>\n",
       "      <td>BR</td>\n",
       "    </tr>\n",
       "    <tr>\n",
       "      <th>4953</th>\n",
       "      <td>9.190000e+11</td>\n",
       "      <td>201910</td>\n",
       "      <td>SAO PAULO</td>\n",
       "      <td>SP</td>\n",
       "      <td>37</td>\n",
       "      <td>M</td>\n",
       "      <td>8500</td>\n",
       "      <td>5002</td>\n",
       "      <td>30032020</td>\n",
       "      <td>5,9</td>\n",
       "      <td>SERVI‚O</td>\n",
       "      <td>SAO PAULO</td>\n",
       "      <td>BR</td>\n",
       "    </tr>\n",
       "    <tr>\n",
       "      <th>4954</th>\n",
       "      <td>9.190000e+11</td>\n",
       "      <td>201910</td>\n",
       "      <td>SAO PAULO</td>\n",
       "      <td>SP</td>\n",
       "      <td>37</td>\n",
       "      <td>M</td>\n",
       "      <td>8500</td>\n",
       "      <td>5222</td>\n",
       "      <td>24012020</td>\n",
       "      <td>43,69</td>\n",
       "      <td>M.O.T.O.</td>\n",
       "      <td>RIO DE JANEIR</td>\n",
       "      <td>BR</td>\n",
       "    </tr>\n",
       "  </tbody>\n",
       "</table>\n",
       "<p>4955 rows × 13 columns</p>\n",
       "</div>"
      ],
      "text/plain": [
       "                id  safra_abertura                  cidade estado  idade sexo  \\\n",
       "0     4.530000e+11          201405  CAMPO LIMPO PAULISTA      SP      37    F   \n",
       "1     4.530000e+11          201405  CAMPO LIMPO PAULISTA      SP      37    F   \n",
       "2     4.530000e+11          201405  CAMPO LIMPO PAULISTA      SP      37    F   \n",
       "3     4.530000e+11          201405  CAMPO LIMPO PAULISTA      SP      37    F   \n",
       "4     4.530000e+11          201405  CAMPO LIMPO PAULISTA      SP      37    F   \n",
       "...            ...             ...                     ...    ...    ...  ...   \n",
       "4950  9.190000e+11          201910  SAO PAULO                 SP      37    M   \n",
       "4951  9.190000e+11          201910  SAO PAULO                 SP      37    M   \n",
       "4952  9.190000e+11          201910  SAO PAULO                 SP      37    M   \n",
       "4953  9.190000e+11          201910  SAO PAULO                 SP      37    M   \n",
       "4954  9.190000e+11          201910  SAO PAULO                 SP      37    M   \n",
       "\n",
       "      limite_total  limite_disp      data   valor grupo_estabelecimento  \\\n",
       "0             4700         5605   4122019      31               SERVI‚O   \n",
       "1             4700         5343   9112019  150,01             FARMACIAS   \n",
       "2             4700         2829   6052019      50               SERVI‚O   \n",
       "3             4700         2547   1062019    54,4              M.O.T.O.   \n",
       "4             4700         2515   1062019   32,79              M.O.T.O.   \n",
       "...            ...          ...       ...     ...                   ...   \n",
       "4950          8500         5305  23012020    25,5           RESTAURANTE   \n",
       "4951          8500         5266  23012020    39,5         SUPERMERCADOS   \n",
       "4952          8500         5445  19022020   75,56           RESTAURANTE   \n",
       "4953          8500         5002  30032020     5,9               SERVI‚O   \n",
       "4954          8500         5222  24012020   43,69              M.O.T.O.   \n",
       "\n",
       "     cidade_estabelecimento pais_estabelecimento  \n",
       "0                 SAO PAULO                   BR  \n",
       "1                    SANTOS                   BR  \n",
       "2                 SAO PAULO                   BR  \n",
       "3                    OSASCO                   BR  \n",
       "4                    OSASCO                   BR  \n",
       "...                     ...                  ...  \n",
       "4950              SAO PAULO                   BR  \n",
       "4951              SAO PAULO                   BR  \n",
       "4952              SAO PAULO                   BR  \n",
       "4953              SAO PAULO                   BR  \n",
       "4954          RIO DE JANEIR                   BR  \n",
       "\n",
       "[4955 rows x 13 columns]"
      ]
     },
     "execution_count": 107,
     "metadata": {},
     "output_type": "execute_result"
    }
   ],
   "source": [
    "df"
   ]
  },
  {
   "cell_type": "markdown",
   "metadata": {},
   "source": [
    "## Data Cleaning"
   ]
  },
  {
   "cell_type": "code",
   "execution_count": 108,
   "metadata": {},
   "outputs": [],
   "source": [
    "REFERENCE_DATE = dt.strptime(\"1970/01\", \"%Y/%m\")\n",
    "\n",
    "def safra_to_deltatime(date_int) -> int:\n",
    "    ''' Converting date from YYYYMM to delta days\n",
    "    '''\n",
    "    date_str = str(date_int)\n",
    "    date = dt.strptime(date_str, \"%Y%m\")\n",
    "    return (date - REFERENCE_DATE).days\n",
    "\n",
    "def intdata_to_deltatime(date_int) -> int:\n",
    "    ''' Converting date from DDMMYYY to delta days\n",
    "    '''\n",
    "    date_str = f\"{date_int:08}\"\n",
    "    date = dt.strptime(date_str, \"%d%m%Y\")\n",
    "    return (date - REFERENCE_DATE).days\n",
    "\n",
    "def strnum_to_float(strnum) -> float:\n",
    "    ''' Converting number string to float\n",
    "    '''\n",
    "    if isinstance(strnum, float):\n",
    "        return strnum\n",
    "    if isinstance(strnum, int):\n",
    "        return float(strnum)\n",
    "    if strnum.strip() == '-':\n",
    "        return None\n",
    "    return float(strnum.replace('.','').replace(',','.'))"
   ]
  },
  {
   "cell_type": "code",
   "execution_count": 109,
   "metadata": {},
   "outputs": [
    {
     "data": {
      "text/html": [
       "<div>\n",
       "<style scoped>\n",
       "    .dataframe tbody tr th:only-of-type {\n",
       "        vertical-align: middle;\n",
       "    }\n",
       "\n",
       "    .dataframe tbody tr th {\n",
       "        vertical-align: top;\n",
       "    }\n",
       "\n",
       "    .dataframe thead th {\n",
       "        text-align: right;\n",
       "    }\n",
       "</style>\n",
       "<table border=\"1\" class=\"dataframe\">\n",
       "  <thead>\n",
       "    <tr style=\"text-align: right;\">\n",
       "      <th></th>\n",
       "      <th>client_id</th>\n",
       "      <th>sexo_id</th>\n",
       "      <th>estab_id</th>\n",
       "      <th>city_id</th>\n",
       "      <th>city_estab_id</th>\n",
       "      <th>state_id</th>\n",
       "      <th>country_id</th>\n",
       "      <th>safra_dt</th>\n",
       "      <th>data_dt</th>\n",
       "      <th>amount</th>\n",
       "      <th>total_limit</th>\n",
       "      <th>available_limit</th>\n",
       "      <th>data_datetime</th>\n",
       "      <th>limit_ratio</th>\n",
       "      <th>age</th>\n",
       "    </tr>\n",
       "  </thead>\n",
       "  <tbody>\n",
       "    <tr>\n",
       "      <th>0</th>\n",
       "      <td>0</td>\n",
       "      <td>2</td>\n",
       "      <td>0</td>\n",
       "      <td>0</td>\n",
       "      <td>0</td>\n",
       "      <td>0</td>\n",
       "      <td>0</td>\n",
       "      <td>16191</td>\n",
       "      <td>18234</td>\n",
       "      <td>31.00</td>\n",
       "      <td>4700.0</td>\n",
       "      <td>5605.0</td>\n",
       "      <td>2019-12-04</td>\n",
       "      <td>1.192553</td>\n",
       "      <td>37</td>\n",
       "    </tr>\n",
       "    <tr>\n",
       "      <th>1</th>\n",
       "      <td>0</td>\n",
       "      <td>2</td>\n",
       "      <td>1</td>\n",
       "      <td>0</td>\n",
       "      <td>1</td>\n",
       "      <td>0</td>\n",
       "      <td>0</td>\n",
       "      <td>16191</td>\n",
       "      <td>18209</td>\n",
       "      <td>150.01</td>\n",
       "      <td>4700.0</td>\n",
       "      <td>5343.0</td>\n",
       "      <td>2019-11-09</td>\n",
       "      <td>1.136809</td>\n",
       "      <td>37</td>\n",
       "    </tr>\n",
       "    <tr>\n",
       "      <th>2</th>\n",
       "      <td>0</td>\n",
       "      <td>2</td>\n",
       "      <td>0</td>\n",
       "      <td>0</td>\n",
       "      <td>0</td>\n",
       "      <td>0</td>\n",
       "      <td>0</td>\n",
       "      <td>16191</td>\n",
       "      <td>18022</td>\n",
       "      <td>50.00</td>\n",
       "      <td>4700.0</td>\n",
       "      <td>2829.0</td>\n",
       "      <td>2019-05-06</td>\n",
       "      <td>0.601915</td>\n",
       "      <td>37</td>\n",
       "    </tr>\n",
       "    <tr>\n",
       "      <th>3</th>\n",
       "      <td>0</td>\n",
       "      <td>2</td>\n",
       "      <td>2</td>\n",
       "      <td>0</td>\n",
       "      <td>2</td>\n",
       "      <td>0</td>\n",
       "      <td>0</td>\n",
       "      <td>16191</td>\n",
       "      <td>18048</td>\n",
       "      <td>54.40</td>\n",
       "      <td>4700.0</td>\n",
       "      <td>2547.0</td>\n",
       "      <td>2019-06-01</td>\n",
       "      <td>0.541915</td>\n",
       "      <td>37</td>\n",
       "    </tr>\n",
       "    <tr>\n",
       "      <th>4</th>\n",
       "      <td>0</td>\n",
       "      <td>2</td>\n",
       "      <td>2</td>\n",
       "      <td>0</td>\n",
       "      <td>2</td>\n",
       "      <td>0</td>\n",
       "      <td>0</td>\n",
       "      <td>16191</td>\n",
       "      <td>18048</td>\n",
       "      <td>32.79</td>\n",
       "      <td>4700.0</td>\n",
       "      <td>2515.0</td>\n",
       "      <td>2019-06-01</td>\n",
       "      <td>0.535106</td>\n",
       "      <td>37</td>\n",
       "    </tr>\n",
       "    <tr>\n",
       "      <th>...</th>\n",
       "      <td>...</td>\n",
       "      <td>...</td>\n",
       "      <td>...</td>\n",
       "      <td>...</td>\n",
       "      <td>...</td>\n",
       "      <td>...</td>\n",
       "      <td>...</td>\n",
       "      <td>...</td>\n",
       "      <td>...</td>\n",
       "      <td>...</td>\n",
       "      <td>...</td>\n",
       "      <td>...</td>\n",
       "      <td>...</td>\n",
       "      <td>...</td>\n",
       "      <td>...</td>\n",
       "    </tr>\n",
       "    <tr>\n",
       "      <th>4950</th>\n",
       "      <td>22</td>\n",
       "      <td>1</td>\n",
       "      <td>11</td>\n",
       "      <td>1</td>\n",
       "      <td>0</td>\n",
       "      <td>0</td>\n",
       "      <td>0</td>\n",
       "      <td>18170</td>\n",
       "      <td>18284</td>\n",
       "      <td>25.50</td>\n",
       "      <td>8500.0</td>\n",
       "      <td>5305.0</td>\n",
       "      <td>2020-01-23</td>\n",
       "      <td>0.624118</td>\n",
       "      <td>37</td>\n",
       "    </tr>\n",
       "    <tr>\n",
       "      <th>4951</th>\n",
       "      <td>22</td>\n",
       "      <td>1</td>\n",
       "      <td>10</td>\n",
       "      <td>1</td>\n",
       "      <td>0</td>\n",
       "      <td>0</td>\n",
       "      <td>0</td>\n",
       "      <td>18170</td>\n",
       "      <td>18284</td>\n",
       "      <td>39.50</td>\n",
       "      <td>8500.0</td>\n",
       "      <td>5266.0</td>\n",
       "      <td>2020-01-23</td>\n",
       "      <td>0.619529</td>\n",
       "      <td>37</td>\n",
       "    </tr>\n",
       "    <tr>\n",
       "      <th>4952</th>\n",
       "      <td>22</td>\n",
       "      <td>1</td>\n",
       "      <td>11</td>\n",
       "      <td>1</td>\n",
       "      <td>0</td>\n",
       "      <td>0</td>\n",
       "      <td>0</td>\n",
       "      <td>18170</td>\n",
       "      <td>18311</td>\n",
       "      <td>75.56</td>\n",
       "      <td>8500.0</td>\n",
       "      <td>5445.0</td>\n",
       "      <td>2020-02-19</td>\n",
       "      <td>0.640588</td>\n",
       "      <td>37</td>\n",
       "    </tr>\n",
       "    <tr>\n",
       "      <th>4953</th>\n",
       "      <td>22</td>\n",
       "      <td>1</td>\n",
       "      <td>0</td>\n",
       "      <td>1</td>\n",
       "      <td>0</td>\n",
       "      <td>0</td>\n",
       "      <td>0</td>\n",
       "      <td>18170</td>\n",
       "      <td>18351</td>\n",
       "      <td>5.90</td>\n",
       "      <td>8500.0</td>\n",
       "      <td>5002.0</td>\n",
       "      <td>2020-03-30</td>\n",
       "      <td>0.588471</td>\n",
       "      <td>37</td>\n",
       "    </tr>\n",
       "    <tr>\n",
       "      <th>4954</th>\n",
       "      <td>22</td>\n",
       "      <td>1</td>\n",
       "      <td>2</td>\n",
       "      <td>1</td>\n",
       "      <td>10</td>\n",
       "      <td>0</td>\n",
       "      <td>0</td>\n",
       "      <td>18170</td>\n",
       "      <td>18285</td>\n",
       "      <td>43.69</td>\n",
       "      <td>8500.0</td>\n",
       "      <td>5222.0</td>\n",
       "      <td>2020-01-24</td>\n",
       "      <td>0.614353</td>\n",
       "      <td>37</td>\n",
       "    </tr>\n",
       "  </tbody>\n",
       "</table>\n",
       "<p>4955 rows × 15 columns</p>\n",
       "</div>"
      ],
      "text/plain": [
       "      client_id  sexo_id  estab_id  city_id  city_estab_id  state_id  \\\n",
       "0             0        2         0        0              0         0   \n",
       "1             0        2         1        0              1         0   \n",
       "2             0        2         0        0              0         0   \n",
       "3             0        2         2        0              2         0   \n",
       "4             0        2         2        0              2         0   \n",
       "...         ...      ...       ...      ...            ...       ...   \n",
       "4950         22        1        11        1              0         0   \n",
       "4951         22        1        10        1              0         0   \n",
       "4952         22        1        11        1              0         0   \n",
       "4953         22        1         0        1              0         0   \n",
       "4954         22        1         2        1             10         0   \n",
       "\n",
       "      country_id  safra_dt  data_dt  amount  total_limit  available_limit  \\\n",
       "0              0     16191    18234   31.00       4700.0           5605.0   \n",
       "1              0     16191    18209  150.01       4700.0           5343.0   \n",
       "2              0     16191    18022   50.00       4700.0           2829.0   \n",
       "3              0     16191    18048   54.40       4700.0           2547.0   \n",
       "4              0     16191    18048   32.79       4700.0           2515.0   \n",
       "...          ...       ...      ...     ...          ...              ...   \n",
       "4950           0     18170    18284   25.50       8500.0           5305.0   \n",
       "4951           0     18170    18284   39.50       8500.0           5266.0   \n",
       "4952           0     18170    18311   75.56       8500.0           5445.0   \n",
       "4953           0     18170    18351    5.90       8500.0           5002.0   \n",
       "4954           0     18170    18285   43.69       8500.0           5222.0   \n",
       "\n",
       "     data_datetime  limit_ratio  age  \n",
       "0       2019-12-04     1.192553   37  \n",
       "1       2019-11-09     1.136809   37  \n",
       "2       2019-05-06     0.601915   37  \n",
       "3       2019-06-01     0.541915   37  \n",
       "4       2019-06-01     0.535106   37  \n",
       "...            ...          ...  ...  \n",
       "4950    2020-01-23     0.624118   37  \n",
       "4951    2020-01-23     0.619529   37  \n",
       "4952    2020-02-19     0.640588   37  \n",
       "4953    2020-03-30     0.588471   37  \n",
       "4954    2020-01-24     0.614353   37  \n",
       "\n",
       "[4955 rows x 15 columns]"
      ]
     },
     "execution_count": 109,
     "metadata": {},
     "output_type": "execute_result"
    }
   ],
   "source": [
    "gender_to_id = {'M':1,'F':2} # creating ids for each gender presented in the dataset\n",
    "estab_to_id = {v:i for i,v in enumerate(df['grupo_estabelecimento'].unique())} # creating ids for each group presented in the dataset\n",
    "city_to_id = {v:i for i,v in enumerate(df['cidade'].unique())} # creating ids for each city presented in the dataset\n",
    "city_estab_to_id = {v:i for i,v in enumerate(df['cidade_estabelecimento'].unique())} # creating ids for each city presented in the dataset\n",
    "state_to_id = {v:i for i,v in enumerate(df['estado'].unique())} # creating ids for each state presented in the dataset\n",
    "country_to_id = {v:i for i,v in enumerate(df['pais_estabelecimento'].unique())} # creating ids for each country presented in the dataset\n",
    "client_to_code = {v:i for i,v in enumerate(df['id'].unique())} # assigning an integer for each client\n",
    "\n",
    "df_numeric = pd.DataFrame({})\n",
    "\n",
    "# converting non-numeric values\n",
    "df_numeric['client_id'] = df['id'].apply(lambda x: client_to_code[x])\n",
    "df_numeric['sexo_id'] = df['sexo'].apply(lambda x: gender_to_id[x.upper()] if x.upper() in gender_to_id else 3) # applying ids\n",
    "df_numeric['estab_id'] = df['grupo_estabelecimento'].apply(lambda x: estab_to_id[x]) # applying ids\n",
    "df_numeric['city_id'] = df['cidade'].apply(lambda x: city_to_id[x]) # applying ids\n",
    "df_numeric['city_estab_id'] = df['cidade_estabelecimento'].apply(lambda x: city_estab_to_id[x]) # applying ids\n",
    "df_numeric['state_id'] = df['estado'].apply(lambda x: state_to_id[x]) # applying ids\n",
    "df_numeric['country_id'] = df['pais_estabelecimento'].apply(lambda x: country_to_id[x])\n",
    "df_numeric['safra_dt'] = df['safra_abertura'].apply(safra_to_deltatime) # converting data to deltatime\n",
    "df_numeric['data_dt'] = df['data'].apply(intdata_to_deltatime) # converting data to deltatime\n",
    "df_numeric['amount'] = df['valor'].apply(strnum_to_float).fillna(0) # converting numeric string to float\n",
    "df_numeric['total_limit'] = df['limite_total'].apply(strnum_to_float) # converting numeric string to float\n",
    "df_numeric['available_limit'] = df['limite_disp'].apply(strnum_to_float) # converting numeric string to float\n",
    "df_numeric['data_datetime'] = df['data'].apply(lambda x: dt.strptime(str(f\"{x:08}\"), '%d%m%Y'))\n",
    "\n",
    "# new variables\n",
    "df_numeric['limit_ratio'] = df_numeric['available_limit']/df_numeric['total_limit']\n",
    "\n",
    "# reutilizing the numeric values\n",
    "df_numeric['age'] = df['idade'].copy()\n",
    "\n",
    "df_numeric"
   ]
  },
  {
   "cell_type": "markdown",
   "metadata": {},
   "source": [
    "## Data Analysis"
   ]
  },
  {
   "cell_type": "markdown",
   "metadata": {},
   "source": [
    "Here we can see the proportion of each class in \"grupo estabelecimento\"\n",
    "\n",
    "it's good to keep in mind that this result is biased by the distribution of the 'grupo_estabelecimento', that is not equally distributed\n",
    "\n",
    "since the bias is present also in the test set, it's ok to use as is now, but in the future, if the semantics of the data changes, we'll need to retrain the model. \n",
    "\n",
    "if the dataset were bigger, we could filter some data, making the occurrences of 'grupo estabelecimento' equally distributed."
   ]
  },
  {
   "cell_type": "code",
   "execution_count": 1,
   "metadata": {},
   "outputs": [
    {
     "ename": "NameError",
     "evalue": "name 'df_numeric' is not defined",
     "output_type": "error",
     "traceback": [
      "\u001b[0;31m---------------------------------------------------------------------------\u001b[0m",
      "\u001b[0;31mNameError\u001b[0m                                 Traceback (most recent call last)",
      "\u001b[0;32m<ipython-input-1-8a2fbc4bee37>\u001b[0m in \u001b[0;36m<module>\u001b[0;34m\u001b[0m\n\u001b[1;32m      1\u001b[0m \u001b[0;31m#df_numeric['estab_id'].replace({v:k for k,v in estab_to_id.items()}).hist(color='blue', xrot=90, rwidth=0.2)\u001b[0m\u001b[0;34m\u001b[0m\u001b[0;34m\u001b[0m\u001b[0;34m\u001b[0m\u001b[0m\n\u001b[0;32m----> 2\u001b[0;31m \u001b[0mdf_numeric\u001b[0m\u001b[0;34m[\u001b[0m\u001b[0;34m'estab_id'\u001b[0m\u001b[0;34m]\u001b[0m\u001b[0;34m.\u001b[0m\u001b[0mreplace\u001b[0m\u001b[0;34m(\u001b[0m\u001b[0;34m{\u001b[0m\u001b[0mv\u001b[0m\u001b[0;34m:\u001b[0m\u001b[0mk\u001b[0m \u001b[0;32mfor\u001b[0m \u001b[0mk\u001b[0m\u001b[0;34m,\u001b[0m\u001b[0mv\u001b[0m \u001b[0;32min\u001b[0m \u001b[0mestab_to_id\u001b[0m\u001b[0;34m.\u001b[0m\u001b[0mitems\u001b[0m\u001b[0;34m(\u001b[0m\u001b[0;34m)\u001b[0m\u001b[0;34m}\u001b[0m\u001b[0;34m)\u001b[0m\u001b[0;34m.\u001b[0m\u001b[0mvalue_counts\u001b[0m\u001b[0;34m(\u001b[0m\u001b[0;34m)\u001b[0m\u001b[0;34m.\u001b[0m\u001b[0mplot\u001b[0m\u001b[0;34m.\u001b[0m\u001b[0mbar\u001b[0m\u001b[0;34m(\u001b[0m\u001b[0;34m)\u001b[0m\u001b[0;34m\u001b[0m\u001b[0;34m\u001b[0m\u001b[0m\n\u001b[0m",
      "\u001b[0;31mNameError\u001b[0m: name 'df_numeric' is not defined"
     ]
    }
   ],
   "source": [
    "#df_numeric['estab_id'].replace({v:k for k,v in estab_to_id.items()}).hist(color='blue', xrot=90, rwidth=0.2)\n",
    "df_numeric['estab_id'].replace({v:k for k,v in estab_to_id.items()}).value_counts().plot.bar()"
   ]
  },
  {
   "cell_type": "markdown",
   "metadata": {},
   "source": [
    "a timeline of total spending in credit card by a rolling window of 15 days\n",
    "we can see that right in the beggining of covid (february 2020) there were an outburst in spenditures"
   ]
  },
  {
   "cell_type": "code",
   "execution_count": 121,
   "metadata": {},
   "outputs": [
    {
     "data": {
      "text/plain": [
       "<AxesSubplot:xlabel='data_datetime'>"
      ]
     },
     "execution_count": 121,
     "metadata": {},
     "output_type": "execute_result"
    },
    {
     "data": {
      "image/png": "[encoded data removed]",
      "text/plain": [
       "<Figure size 432x288 with 1 Axes>"
      ]
     },
     "metadata": {
      "needs_background": "light"
     },
     "output_type": "display_data"
    }
   ],
   "source": [
    "total_spending_view = df_numeric.groupby('data_datetime').agg({'amount':'sum'}).rolling('15d').mean()\n",
    "total_spending_view.plot()"
   ]
  },
  {
   "cell_type": "markdown",
   "metadata": {},
   "source": [
    "\n",
    "this burst period from february can create a bias in the data if we check for the mean amount spent during pre and post covid, since our whole dataset ends at may,\n",
    "presenting a decreasing trend, having the burst only in february and not presenting a trend. So for future cases, we should delete this period from our data so it doesn't influence on our predictions\n",
    "\n",
    "---"
   ]
  },
  {
   "cell_type": "markdown",
   "metadata": {},
   "source": [
    "we can obtain this exact period by filtering this query by any value bigger than 4000 and getting the min and max dates"
   ]
  },
  {
   "cell_type": "code",
   "execution_count": 112,
   "metadata": {},
   "outputs": [
    {
     "name": "stdout",
     "output_type": "stream",
     "text": [
      "burst start: 2020-01-27\n",
      "burst end: 2020-02-10\n"
     ]
    }
   ],
   "source": [
    "burst_period = total_spending_view[total_spending_view['amount']>4000]\n",
    "burst_start = burst_period.reset_index()['data_datetime'].iloc[0]\n",
    "burst_end = burst_period.reset_index()['data_datetime'].iloc[-1]\n",
    "\n",
    "print(f\"burst start: {str(burst_start).split()[0]}\\nburst end: {str(burst_end).split()[0]}\")"
   ]
  },
  {
   "cell_type": "markdown",
   "metadata": {},
   "source": [
    "comparing to the burst period, how is the establishment spending trend compared to the usual period?"
   ]
  },
  {
   "cell_type": "code",
   "execution_count": 139,
   "metadata": {},
   "outputs": [
    {
     "name": "stderr",
     "output_type": "stream",
     "text": [
      "<ipython-input-139-9935a04d11fb>:15: SettingWithCopyWarning: \n",
      "A value is trying to be set on a copy of a slice from a DataFrame.\n",
      "Try using .loc[row_indexer,col_indexer] = value instead\n",
      "\n",
      "See the caveats in the documentation: https://pandas.pydata.org/pandas-docs/stable/user_guide/indexing.html#returning-a-view-versus-a-copy\n",
      "  no_burst['estab_id'] = no_burst['estab_id'].replace({v:k for k,v in estab_to_id.items()})#.value_counts()\n"
     ]
    },
    {
     "data": {
      "text/plain": [
       "<AxesSubplot:xlabel='estab_id'>"
      ]
     },
     "execution_count": 139,
     "metadata": {},
     "output_type": "execute_result"
    },
    {
     "data": {
      "image/png": "[encoded data removed]",
      "text/plain": [
       "<Figure size 432x288 with 1 Axes>"
      ]
     },
     "metadata": {
      "needs_background": "light"
     },
     "output_type": "display_data"
    }
   ],
   "source": [
    "burst_view = df_numeric.copy()\n",
    "no_burst_view = df_numeric.copy()\n",
    "\n",
    "keys = burst_period.index.values\n",
    "\n",
    "burst_view = burst_view[burst_view['data_datetime'].isin(keys)]\n",
    "no_burst = no_burst_view[~no_burst_view['data_datetime'].isin(keys)]\n",
    "\n",
    "burst_view['estab_id'] = burst_view['estab_id'].replace({v:k for k,v in estab_to_id.items()})#.value_counts()\n",
    "burst_spendings = burst_view.groupby('estab_id').agg({'amount':'sum'})\n",
    "\n",
    "no_burst['estab_id'] = no_burst['estab_id'].replace({v:k for k,v in estab_to_id.items()})#.value_counts()\n",
    "no_burst_spendings = no_burst.groupby('estab_id').agg({'amount':'sum'})\n",
    "\n",
    "((burst_spendings/no_burst_spendings)-1).dropna().sort_values('amount', ascending=False).plot.bar()"
   ]
  },
  {
   "cell_type": "markdown",
   "metadata": {},
   "source": [
    "removing burst period"
   ]
  },
  {
   "cell_type": "code",
   "execution_count": 11,
   "metadata": {},
   "outputs": [
    {
     "data": {
      "image/png": "[encoded data removed]",
      "text/plain": [
       "<Figure size 432x288 with 1 Axes>"
      ]
     },
     "metadata": {
      "needs_background": "light"
     },
     "output_type": "display_data"
    }
   ],
   "source": [
    "burst_start = dt.strptime(\"2020-01-26\",\"%Y-%m-%d\") # one day less\n",
    "burst_end = dt.strptime(\"2020-02-11\", \"%Y-%m-%d\") # one day more\n",
    "\n",
    "df_numeric2 = df_numeric[(df_numeric['data_datetime']<burst_start)|(df_numeric['data_datetime']>burst_end)]\n",
    "total_spending_view = df_numeric2.groupby('data_datetime').agg({'amount':'sum'}).rolling('15d').mean()\n",
    "total_spending_view.plot()#.sort_values('amount', ascending=False)\n",
    "\n",
    "df_numeric = df_numeric2 # remove for atomic cell"
   ]
  },
  {
   "cell_type": "markdown",
   "metadata": {},
   "source": [
    "creating two dataframes, one for pre covid and another for pos covid"
   ]
  },
  {
   "cell_type": "code",
   "execution_count": 12,
   "metadata": {},
   "outputs": [],
   "source": [
    "expr = df_numeric['data_datetime'] < dt.strptime(\"01-2020\",\"%m-%Y\")\n",
    "df_pre_covid = df_numeric[expr].copy()\n",
    "df_pos_covid = df_numeric[~expr].copy()"
   ]
  },
  {
   "cell_type": "markdown",
   "metadata": {},
   "source": [
    "let's measure the number of days from the date we defined as the start of covid (01-01-2020) and\n",
    "select the same number of days from before covid, so when we compare those two, we compare from an equal time window"
   ]
  },
  {
   "cell_type": "code",
   "execution_count": 13,
   "metadata": {},
   "outputs": [
    {
     "name": "stdout",
     "output_type": "stream",
     "text": [
      "start: 2019-04-01 00:00:00, end: 2020-05-07 00:00:00, interval: 402\n"
     ]
    }
   ],
   "source": [
    "end_of_data = df_pos_covid['data_datetime'].max()\n",
    "start_of_data = df_pre_covid['data_datetime'].min()\n",
    "\n",
    "print(f\"start: {start_of_data}, end: {end_of_data}, interval: {(end_of_data-start_of_data).days}\")"
   ]
  },
  {
   "cell_type": "code",
   "execution_count": 14,
   "metadata": {},
   "outputs": [
    {
     "data": {
      "text/plain": [
       "127"
      ]
     },
     "execution_count": 14,
     "metadata": {},
     "output_type": "execute_result"
    }
   ],
   "source": [
    "(end_of_data - dt.strptime(\"01-2020\",\"%m-%Y\")).days"
   ]
  },
  {
   "cell_type": "markdown",
   "metadata": {},
   "source": [
    "so we have a total of 402 days on our whole dataset but only 127 of those represent the pos covid period. So we should select the first 127 days \n",
    "\n",
    "of the pre-covid dataset as a reference for \"pre-covid data\""
   ]
  },
  {
   "cell_type": "code",
   "execution_count": 15,
   "metadata": {},
   "outputs": [],
   "source": [
    "final_date = start_of_data + timedelta(days=127)\n",
    "df_pre_covid = df_pre_covid[df_pre_covid['data_datetime'] <= final_date].copy() # resizing"
   ]
  },
  {
   "cell_type": "code",
   "execution_count": 16,
   "metadata": {},
   "outputs": [
    {
     "name": "stdout",
     "output_type": "stream",
     "text": [
      "pre covid: 92.15921107266436\n",
      "pos covid: 115.52865502183406\n"
     ]
    }
   ],
   "source": [
    "feature = \"amount\"\n",
    "\n",
    "print(f\"pre covid: {df_pre_covid[feature].mean()}\\npos covid: {df_pos_covid[feature].mean()}\")\n",
    "\n",
    "# numbers if we didn't remove the burst period:\n",
    "# pre covid: 92.15921107266436\n",
    "# pos covid: 160.11911660777383"
   ]
  },
  {
   "cell_type": "markdown",
   "metadata": {},
   "source": [
    "In this case we used std instead of mean because the point is to show the outlier biasing the data.\n",
    "\n",
    "With the mean the impact of an outlier is reduced\n",
    "\n",
    "it's important to note that we should not use the sum of amount here because we have more data from before covid than after\n",
    "\n",
    "In the pos-covid period we have a smaller spending trend (and decreasing), and even so it has a mean greater than pre covid\n",
    "\n",
    "that happens because of the burst outlier that might not repeat in the future, biased by the outliers\n",
    "\n",
    "---"
   ]
  },
  {
   "cell_type": "markdown",
   "metadata": {},
   "source": [
    "#### total limit"
   ]
  },
  {
   "cell_type": "markdown",
   "metadata": {},
   "source": [
    "a timeline of total credit limit by a rolling window of 15 days"
   ]
  },
  {
   "cell_type": "code",
   "execution_count": 17,
   "metadata": {},
   "outputs": [
    {
     "data": {
      "text/plain": [
       "<AxesSubplot:xlabel='data_datetime'>"
      ]
     },
     "execution_count": 17,
     "metadata": {},
     "output_type": "execute_result"
    },
    {
     "data": {
      "image/png": "[encoded data removed]",
      "text/plain": [
       "<Figure size 432x288 with 1 Axes>"
      ]
     },
     "metadata": {
      "needs_background": "light"
     },
     "output_type": "display_data"
    }
   ],
   "source": [
    "df_numeric.groupby('data_datetime').agg({'total_limit':'median'}).rolling('15d').mean().plot()"
   ]
  },
  {
   "cell_type": "markdown",
   "metadata": {},
   "source": [
    "Here we can see an upwards trend in the whole dataset, but it becomes more intense at the start of the covid.\n",
    "\n",
    "It also became more volatile"
   ]
  },
  {
   "cell_type": "markdown",
   "metadata": {},
   "source": [
    "Let's visualize this statement better:"
   ]
  },
  {
   "cell_type": "code",
   "execution_count": 18,
   "metadata": {},
   "outputs": [
    {
     "data": {
      "text/plain": [
       "[<matplotlib.axis.YTick at 0x7fdf5c04e820>,\n",
       " <matplotlib.axis.YTick at 0x7fdf5c04e0a0>,\n",
       " <matplotlib.axis.YTick at 0x7fdf5c046040>,\n",
       " <matplotlib.axis.YTick at 0x7fdf5bfd6e20>,\n",
       " <matplotlib.axis.YTick at 0x7fdf5bf5e310>,\n",
       " <matplotlib.axis.YTick at 0x7fdf5bf5ea60>,\n",
       " <matplotlib.axis.YTick at 0x7fdf5bf5ec10>]"
      ]
     },
     "execution_count": 18,
     "metadata": {},
     "output_type": "execute_result"
    },
    {
     "data": {
      "image/png": "[encoded data removed]",
      "text/plain": [
       "<Figure size 1080x432 with 2 Axes>"
      ]
     },
     "metadata": {
      "needs_background": "light"
     },
     "output_type": "display_data"
    }
   ],
   "source": [
    "fig, axes = plt.subplots(nrows=1, ncols=2, figsize=(15,6))\n",
    "df_pre_covid.groupby('data_datetime').agg({'total_limit':'median'}).rolling('15d').mean().plot(ax=axes[0])\n",
    "axes[0].set_title('pre-covid')\n",
    "axes[0].set_yticks(range(0,13000,2000))\n",
    "df_pos_covid.groupby('data_datetime').agg({'total_limit':'median'}).rolling('15d').mean().plot(ax=axes[1])\n",
    "axes[1].set_title('covid')\n",
    "axes[1].set_yticks(range(0,13000,2000))"
   ]
  },
  {
   "cell_type": "code",
   "execution_count": 19,
   "metadata": {},
   "outputs": [
    {
     "name": "stdout",
     "output_type": "stream",
     "text": [
      "pre covid: 6094.865051903114\n",
      "pos covid: 10608.199126637555\n"
     ]
    }
   ],
   "source": [
    "feature = \"total_limit\"\n",
    "\n",
    "print(f\"pre covid: {df_pre_covid[feature].mean()}\\npos covid: {df_pos_covid[feature].mean()}\")\n",
    "\n",
    "# numbers if we hadn't removed the burst period:\n",
    "# pre covid: 6094.865051903114\n",
    "# pos covid: 10624.118727915195"
   ]
  },
  {
   "cell_type": "markdown",
   "metadata": {},
   "source": [
    "we can see that during covid period, the standard deviation of the credit limit of consumers' credit increased by 74%\n",
    "\n",
    "meaning that the volatility of total_credit increased\n",
    "\n",
    "* here we chose to use median because there are some outliers in the dataset around august 2019\n",
    "---"
   ]
  },
  {
   "cell_type": "markdown",
   "metadata": {},
   "source": [
    "#### Covid influence on behavior on grupo_estabelecimento"
   ]
  },
  {
   "cell_type": "markdown",
   "metadata": {},
   "source": [
    "pre covid: "
   ]
  },
  {
   "cell_type": "code",
   "execution_count": 20,
   "metadata": {},
   "outputs": [
    {
     "data": {
      "text/plain": [
       "<AxesSubplot:xlabel='estab_name'>"
      ]
     },
     "execution_count": 20,
     "metadata": {},
     "output_type": "execute_result"
    },
    {
     "data": {
      "image/png": "[encoded data removed]",
      "text/plain": [
       "<Figure size 432x288 with 1 Axes>"
      ]
     },
     "metadata": {
      "needs_background": "light"
     },
     "output_type": "display_data"
    }
   ],
   "source": [
    "reverse_estab_id = {v:k for k,v in estab_to_id.items()}\n",
    "\n",
    "df_pre_covid['estab_name'] = df_pre_covid['estab_id'].apply(lambda x: reverse_estab_id[x])\n",
    "df_pos_covid['estab_name'] = df_pos_covid['estab_id'].apply(lambda x: reverse_estab_id[x])\n",
    "\n",
    "pre_hist = df_pre_covid.groupby('estab_name').agg({'amount':'mean'})\n",
    "pos_hist = df_pos_covid.groupby('estab_name').agg({'amount':'mean'})\n",
    "\n",
    "pre_hist.sort_values('amount', ascending=False).plot.bar()"
   ]
  },
  {
   "cell_type": "markdown",
   "metadata": {},
   "source": [
    "covid period: "
   ]
  },
  {
   "cell_type": "code",
   "execution_count": 21,
   "metadata": {},
   "outputs": [
    {
     "data": {
      "text/plain": [
       "<AxesSubplot:xlabel='estab_name'>"
      ]
     },
     "execution_count": 21,
     "metadata": {},
     "output_type": "execute_result"
    },
    {
     "data": {
      "image/png": "[encoded data removed]",
      "text/plain": [
       "<Figure size 432x288 with 1 Axes>"
      ]
     },
     "metadata": {
      "needs_background": "light"
     },
     "output_type": "display_data"
    }
   ],
   "source": [
    "pos_hist.sort_values('amount', ascending=False).plot.bar()"
   ]
  },
  {
   "cell_type": "markdown",
   "metadata": {},
   "source": [
    "Rate of change of purchases between pre and pos covid:"
   ]
  },
  {
   "cell_type": "code",
   "execution_count": 142,
   "metadata": {},
   "outputs": [
    {
     "data": {
      "text/plain": [
       "<AxesSubplot:xlabel='estab_name'>"
      ]
     },
     "execution_count": 142,
     "metadata": {},
     "output_type": "execute_result"
    },
    {
     "data": {
      "image/png": "[encoded data removed]",
      "text/plain": [
       "<Figure size 432x288 with 1 Axes>"
      ]
     },
     "metadata": {
      "needs_background": "light"
     },
     "output_type": "display_data"
    }
   ],
   "source": [
    "((pos_hist/pre_hist)-1).sort_values('amount', ascending=False).plot.bar()"
   ]
  },
  {
   "cell_type": "markdown",
   "metadata": {},
   "source": [
    "We can check the validity of the increase on flight sector by looking at the time series of amount spent with flights over time:"
   ]
  },
  {
   "cell_type": "code",
   "execution_count": 23,
   "metadata": {},
   "outputs": [
    {
     "data": {
      "text/plain": [
       "<AxesSubplot:xlabel='data_datetime'>"
      ]
     },
     "execution_count": 23,
     "metadata": {},
     "output_type": "execute_result"
    },
    {
     "data": {
      "image/png": "[encoded data removed]",
      "text/plain": [
       "<Figure size 432x288 with 1 Axes>"
      ]
     },
     "metadata": {
      "needs_background": "light"
     },
     "output_type": "display_data"
    }
   ],
   "source": [
    "flight_pre = df_pre_covid[df_pre_covid['estab_name']=='CIA AEREAS'].set_index('data_datetime')['amount']\n",
    "flight_pos = df_pos_covid[df_pos_covid['estab_name']=='CIA AEREAS'].set_index('data_datetime')['amount']\n",
    "\n",
    "flight_view = pd.concat([flight_pre, flight_pos])\n",
    "flight_view.plot()"
   ]
  },
  {
   "cell_type": "markdown",
   "metadata": {},
   "source": [
    "The flight burst happened right before and during the burst period we removed earlier\n",
    "\n",
    "without removing it, we would see more spikes like this one above, around the same period as this one happened"
   ]
  },
  {
   "cell_type": "markdown",
   "metadata": {},
   "source": [
    "## Feature Engineering"
   ]
  },
  {
   "cell_type": "markdown",
   "metadata": {},
   "source": [
    "#### Selecting features"
   ]
  },
  {
   "cell_type": "markdown",
   "metadata": {},
   "source": [
    "Getting the absolute values for the correlation matrix of the \"grupo estabelecimento\" id\n",
    "\n",
    "getting absolutes because we need the best candidates for a feature; so only the magnitude is important right now"
   ]
  },
  {
   "cell_type": "code",
   "execution_count": 24,
   "metadata": {},
   "outputs": [
    {
     "data": {
      "text/plain": [
       "<AxesSubplot:>"
      ]
     },
     "execution_count": 24,
     "metadata": {},
     "output_type": "execute_result"
    },
    {
     "data": {
      "image/png": "[encoded data removed]",
      "text/plain": [
       "<Figure size 432x288 with 1 Axes>"
      ]
     },
     "metadata": {
      "needs_background": "light"
     },
     "output_type": "display_data"
    }
   ],
   "source": [
    "df_numeric.corr()['estab_id'].apply(lambda x: abs(x)).sort_values(ascending=True).iloc[:-1].plot.barh(color='blue')"
   ]
  },
  {
   "cell_type": "markdown",
   "metadata": {},
   "source": [
    "\n",
    "Getting the average available_limit, total_limit and value for each grupo_estabelecimento"
   ]
  },
  {
   "cell_type": "markdown",
   "metadata": {},
   "source": [
    "Amount by establishment group:"
   ]
  },
  {
   "cell_type": "code",
   "execution_count": 27,
   "metadata": {},
   "outputs": [
    {
     "data": {
      "text/plain": [
       "<AxesSubplot:ylabel='estab_id'>"
      ]
     },
     "execution_count": 27,
     "metadata": {},
     "output_type": "execute_result"
    },
    {
     "data": {
      "image/png": "[encoded data removed]",
      "text/plain": [
       "<Figure size 936x504 with 1 Axes>"
      ]
     },
     "metadata": {
      "needs_background": "light"
     },
     "output_type": "display_data"
    }
   ],
   "source": [
    "df_amount = df_numeric.groupby('estab_id', as_index=False).agg({'amount':'median'}).sort_values('amount', ascending=True)\n",
    "df_amount['estab_id'] = df_amount['estab_id'].replace({v:k for k,v in estab_to_id.items()})\n",
    "df_amount = df_amount.set_index('estab_id')\n",
    "df_amount.plot.barh(figsize=(13,7), color={'amount':'blue'})"
   ]
  },
  {
   "cell_type": "markdown",
   "metadata": {},
   "source": [
    "If the burst period weren't removed, we would see a discrepancy from the tag \"INEXISTENTE\" over others (much higher) that would make all the\n",
    "other values proportionaly low, that might hinder the model evaluation, so when normalizing the values over 0~1 we could experiment with capping the value over 2000 or 3000 (anything >= those values equals 1), or using a log function. That weren't necessary because the removal of the\n",
    "burst period made the values much more equally distributed. \n",
    "\n",
    "If the scaling were necessary, it would be better to use log instead of min-max, because to use the min-max scaling we should always run a full scan on the entire set looking for the max and min values, which might change over time when the dataset increases in the future.\n",
    "\n",
    "In this alternative scenario, what would happen in the distribution of values is this:"
   ]
  },
  {
   "cell_type": "code",
   "execution_count": 143,
   "metadata": {},
   "outputs": [
    {
     "data": {
      "text/plain": [
       "<AxesSubplot:ylabel='estab_id'>"
      ]
     },
     "execution_count": 143,
     "metadata": {},
     "output_type": "execute_result"
    },
    {
     "data": {
      "image/png": "[encoded data removed]",
      "text/plain": [
       "<Figure size 936x504 with 1 Axes>"
      ]
     },
     "metadata": {
      "needs_background": "light"
     },
     "output_type": "display_data"
    }
   ],
   "source": [
    "df_amount['amount_log'] = df_amount['amount'].apply(lambda x: max(np.log(x),0)) # applying log to amount variable\n",
    "df_amount['amount_log'] = df_amount['amount_log']/df_amount['amount_log'].max() # normalizing between 0~1 so we can compare both in the same max values\n",
    "df_amount['amount_adjusted'] = df_amount['amount']/df_amount['amount'].max() # normalizing between 0~1 so we can compare both in the same max values\n",
    "df_amount[['amount_log', 'amount_adjusted']].plot.barh(color={'amount_log':'black','amount_adjusted':'blue'}, figsize=(13,7), stacked=False)"
   ]
  },
  {
   "cell_type": "markdown",
   "metadata": {},
   "source": [
    "* same data as above (red) but adjusted with log (black)\n",
    "\n",
    "---"
   ]
  },
  {
   "cell_type": "markdown",
   "metadata": {},
   "source": [
    "Total limit by establishment group:"
   ]
  },
  {
   "cell_type": "code",
   "execution_count": 29,
   "metadata": {},
   "outputs": [
    {
     "data": {
      "text/plain": [
       "<AxesSubplot:ylabel='estab_id'>"
      ]
     },
     "execution_count": 29,
     "metadata": {},
     "output_type": "execute_result"
    },
    {
     "data": {
      "image/png": "[encoded data removed]",
      "text/plain": [
       "<Figure size 936x504 with 1 Axes>"
      ]
     },
     "metadata": {
      "needs_background": "light"
     },
     "output_type": "display_data"
    }
   ],
   "source": [
    "df_total_limit = df_numeric.groupby('estab_id', as_index=False).agg({'total_limit':'median'}).sort_values('total_limit', ascending=True)\n",
    "df_total_limit['estab_id'] = df_total_limit['estab_id'].replace({v:k for k,v in estab_to_id.items()})\n",
    "df_total_limit = df_total_limit.set_index('estab_id')\n",
    "df_total_limit.plot.barh(color='blue', figsize=(13,7))"
   ]
  },
  {
   "cell_type": "markdown",
   "metadata": {},
   "source": [
    "Available limit by establishment group:"
   ]
  },
  {
   "cell_type": "code",
   "execution_count": 30,
   "metadata": {},
   "outputs": [
    {
     "data": {
      "text/plain": [
       "<AxesSubplot:ylabel='estab_id'>"
      ]
     },
     "execution_count": 30,
     "metadata": {},
     "output_type": "execute_result"
    },
    {
     "data": {
      "image/png": "[encoded data removed]",
      "text/plain": [
       "<Figure size 936x504 with 1 Axes>"
      ]
     },
     "metadata": {
      "needs_background": "light"
     },
     "output_type": "display_data"
    }
   ],
   "source": [
    "df_avail_limit = df_numeric.groupby('estab_id', as_index=False).agg({'available_limit':'median'}).sort_values('available_limit', ascending=True)\n",
    "df_avail_limit['estab_id'] = df_avail_limit['estab_id'].replace({v:k for k,v in estab_to_id.items()})\n",
    "df_avail_limit = df_avail_limit.set_index('estab_id')\n",
    "df_avail_limit.plot.barh(color='blue', figsize=(13,7))"
   ]
  },
  {
   "cell_type": "markdown",
   "metadata": {},
   "source": [
    "All the previous three together, sorted by total magnitude:"
   ]
  },
  {
   "cell_type": "code",
   "execution_count": 31,
   "metadata": {},
   "outputs": [
    {
     "data": {
      "text/plain": [
       "<AxesSubplot:ylabel='estab_id'>"
      ]
     },
     "execution_count": 31,
     "metadata": {},
     "output_type": "execute_result"
    },
    {
     "data": {
      "image/png": "[encoded data removed]",
      "text/plain": [
       "<Figure size 576x1080 with 1 Axes>"
      ]
     },
     "metadata": {
      "needs_background": "light"
     },
     "output_type": "display_data"
    }
   ],
   "source": [
    "colors = {'amount':'black','available_limit':'blue', 'total_limit':'red'}\n",
    "df_money = pd.concat([df_amount, df_avail_limit, df_total_limit], axis=1)\n",
    "df_money['sort_key'] = df_money['amount'] + df_money['available_limit'] + df_money['total_limit']\n",
    "df_money = df_money.sort_values('sort_key')\n",
    "df_money[list(colors.keys())].plot.barh(color=colors, figsize=(8,15))"
   ]
  },
  {
   "cell_type": "markdown",
   "metadata": {},
   "source": [
    "#### Creating new features"
   ]
  },
  {
   "cell_type": "markdown",
   "metadata": {},
   "source": [
    "Judging by the correlation results, we can see that the client_id can be relevant to the target feature. So let's see if clients has preference for one kind of 'grupo_estabelecimento' over other groups\n",
    "\n",
    "The assumption being validated here is if just by looking at a client_id we can infer the 'group_estabelecimento' of his purchase\n",
    "\n",
    "In other words: \n",
    "\n",
    "how probable is that he will buy the 'grupo_estabelecimento' that's most often used by him/her in a specific purchase\n",
    "\n",
    "$p(preferred\\_grupo\\_estabelecimento  |  client\\_id)$"
   ]
  },
  {
   "cell_type": "markdown",
   "metadata": {},
   "source": [
    "Creating train and test set:"
   ]
  },
  {
   "cell_type": "code",
   "execution_count": 145,
   "metadata": {},
   "outputs": [],
   "source": [
    "df_num_shuffled = df_numeric.copy().sample(frac=1, random_state=0) "
   ]
  },
  {
   "cell_type": "markdown",
   "metadata": {},
   "source": [
    "shuffling the data so we don't get a test set biased by covid period\n",
    "\n",
    "nor by yearly trends between training and test sets"
   ]
  },
  {
   "cell_type": "code",
   "execution_count": 146,
   "metadata": {},
   "outputs": [],
   "source": [
    "ds_size = df_num_shuffled.shape[0]\n",
    "train_size = int(ds_size*0.8)\n",
    "test_size = ds_size - train_size\n",
    "\n",
    "df_train = df_num_shuffled.iloc[:train_size]\n",
    "df_test = df_num_shuffled.iloc[train_size:]"
   ]
  },
  {
   "cell_type": "markdown",
   "metadata": {},
   "source": [
    "Finding the 'grupo_estabelecimento' that appears the most for each client. If it's a draw, select a random one"
   ]
  },
  {
   "cell_type": "code",
   "execution_count": 147,
   "metadata": {},
   "outputs": [],
   "source": [
    "clients = {}\n",
    "for row in df_train.iterrows():\n",
    "    cid = row[1]['client_id']\n",
    "    if cid not in clients:\n",
    "        clients[cid] = []\n",
    "    clients[cid].append(row[1]['estab_id'])\n",
    "\n",
    "def get_most_frequent(values):\n",
    "    return max(set(values), key=values.count)\n",
    "\n",
    "id_to_pref_estab = {k:int(get_most_frequent(v)) for k,v in clients.items()}"
   ]
  },
  {
   "cell_type": "markdown",
   "metadata": {},
   "source": [
    "Now let's see how many 'grupo_estabelecimento' we will get right solely by using the client_id preferred value\n",
    "\n",
    "let's use a different sample than we used for finding the preferred id, so we don't get a biased inference"
   ]
  },
  {
   "cell_type": "code",
   "execution_count": 148,
   "metadata": {},
   "outputs": [
    {
     "data": {
      "text/html": [
       "<div>\n",
       "<style scoped>\n",
       "    .dataframe tbody tr th:only-of-type {\n",
       "        vertical-align: middle;\n",
       "    }\n",
       "\n",
       "    .dataframe tbody tr th {\n",
       "        vertical-align: top;\n",
       "    }\n",
       "\n",
       "    .dataframe thead th {\n",
       "        text-align: right;\n",
       "    }\n",
       "</style>\n",
       "<table border=\"1\" class=\"dataframe\">\n",
       "  <thead>\n",
       "    <tr style=\"text-align: right;\">\n",
       "      <th></th>\n",
       "      <th>estab_id</th>\n",
       "      <th>preferred</th>\n",
       "      <th>match</th>\n",
       "    </tr>\n",
       "  </thead>\n",
       "  <tbody>\n",
       "    <tr>\n",
       "      <th>734</th>\n",
       "      <td>11</td>\n",
       "      <td>0</td>\n",
       "      <td>False</td>\n",
       "    </tr>\n",
       "    <tr>\n",
       "      <th>4175</th>\n",
       "      <td>11</td>\n",
       "      <td>0</td>\n",
       "      <td>False</td>\n",
       "    </tr>\n",
       "    <tr>\n",
       "      <th>2514</th>\n",
       "      <td>0</td>\n",
       "      <td>0</td>\n",
       "      <td>True</td>\n",
       "    </tr>\n",
       "    <tr>\n",
       "      <th>336</th>\n",
       "      <td>4</td>\n",
       "      <td>0</td>\n",
       "      <td>False</td>\n",
       "    </tr>\n",
       "    <tr>\n",
       "      <th>2596</th>\n",
       "      <td>11</td>\n",
       "      <td>0</td>\n",
       "      <td>False</td>\n",
       "    </tr>\n",
       "    <tr>\n",
       "      <th>...</th>\n",
       "      <td>...</td>\n",
       "      <td>...</td>\n",
       "      <td>...</td>\n",
       "    </tr>\n",
       "    <tr>\n",
       "      <th>4931</th>\n",
       "      <td>17</td>\n",
       "      <td>13</td>\n",
       "      <td>False</td>\n",
       "    </tr>\n",
       "    <tr>\n",
       "      <th>3264</th>\n",
       "      <td>0</td>\n",
       "      <td>0</td>\n",
       "      <td>True</td>\n",
       "    </tr>\n",
       "    <tr>\n",
       "      <th>1653</th>\n",
       "      <td>0</td>\n",
       "      <td>0</td>\n",
       "      <td>True</td>\n",
       "    </tr>\n",
       "    <tr>\n",
       "      <th>2607</th>\n",
       "      <td>10</td>\n",
       "      <td>11</td>\n",
       "      <td>False</td>\n",
       "    </tr>\n",
       "    <tr>\n",
       "      <th>2732</th>\n",
       "      <td>0</td>\n",
       "      <td>0</td>\n",
       "      <td>True</td>\n",
       "    </tr>\n",
       "  </tbody>\n",
       "</table>\n",
       "<p>991 rows × 3 columns</p>\n",
       "</div>"
      ],
      "text/plain": [
       "      estab_id  preferred  match\n",
       "734         11          0  False\n",
       "4175        11          0  False\n",
       "2514         0          0   True\n",
       "336          4          0  False\n",
       "2596        11          0  False\n",
       "...        ...        ...    ...\n",
       "4931        17         13  False\n",
       "3264         0          0   True\n",
       "1653         0          0   True\n",
       "2607        10         11  False\n",
       "2732         0          0   True\n",
       "\n",
       "[991 rows x 3 columns]"
      ]
     },
     "execution_count": 148,
     "metadata": {},
     "output_type": "execute_result"
    }
   ],
   "source": [
    "df_id_test = df_test.copy()\n",
    "df_id_test['preferred'] = df_test['estab_id'].apply(lambda x: id_to_pref_estab[x])\n",
    "df_id_test['match'] = df_id_test['preferred'] == df_id_test['estab_id']\n",
    "df_id_test = df_id_test[['estab_id', 'preferred', 'match']]\n",
    "df_id_test"
   ]
  },
  {
   "cell_type": "markdown",
   "metadata": {},
   "source": [
    "Calculating the probability of getting the right estab_id by using the preferred id"
   ]
  },
  {
   "cell_type": "code",
   "execution_count": 34,
   "metadata": {},
   "outputs": [
    {
     "name": "stdout",
     "output_type": "stream",
     "text": [
      "314/937 = 0.33511205976520814\n"
     ]
    }
   ],
   "source": [
    "false_count = df_id_test['match'].value_counts()[0]\n",
    "true_count = df_id_test['match'].value_counts()[1]\n",
    "print(f\"{true_count}/{true_count + false_count} = {true_count/(true_count+false_count)}\")"
   ]
  },
  {
   "cell_type": "markdown",
   "metadata": {},
   "source": [
    "Control set:"
   ]
  },
  {
   "cell_type": "code",
   "execution_count": 159,
   "metadata": {},
   "outputs": [
    {
     "name": "stdout",
     "output_type": "stream",
     "text": [
      "66/991 = 0.06659939455095863\n"
     ]
    }
   ],
   "source": [
    "df_id_control = df_id_test.copy()\n",
    "ids = df_id_control['estab_id'].drop_duplicates().values\n",
    "df_id_control['preferred'] = df_id_control['preferred'].apply(lambda x: random.choice(ids))\n",
    "df_id_control['match'] = df_id_control['preferred'] == df_id_control['estab_id']\n",
    "\n",
    "false_count = df_id_control['match'].value_counts()[0]\n",
    "true_count = df_id_control['match'].value_counts()[1]\n",
    "print(f\"{true_count}/{true_count + false_count} = {true_count/(true_count+false_count)}\")"
   ]
  },
  {
   "cell_type": "markdown",
   "metadata": {},
   "source": [
    "That means that the probability of finding the right 'grupo_estabelecimento' given 'preferred grupo_estabelecimento' is 33%\n",
    "\n",
    "which is greater than random choice for 22 options (6% for random choice, 4.5% if were equally distributed)\n",
    "\n",
    "Since this feature has shown a significance of 33% over 6%, let's keep it for our model and test results with and without it\n",
    "\n",
    "---"
   ]
  },
  {
   "cell_type": "markdown",
   "metadata": {},
   "source": [
    "TODO:\n",
    "* mostrar o que mais foi comprado durante o burst\n",
    "* tirar uma conclusao sobre a analise pre e pos pandemia, incluir suposicao sobre aeroportos e aumento em numero de voos\n",
    "* deletar o burst de fevereiro do ds\n",
    "* model without any constraints, just using the initial data as is\n",
    "* model with values scaled with log and using the added features and without the february burst\n",
    "\n",
    "* fazer o modelo bruto\n",
    "* nao fazer fine tuning\n",
    "* investir em engenharia de feature\n",
    "* adicionar features de estabelecimento preferido de determinada cidade, de determinado estado e de determinada idade, e sexo, acrescentando essas colunas no ds\n",
    "* adicionar feature de bool se é weekend ou nao\n",
    "* falar de ensemble models(verificar se é mesmo) para hierarquical taxonomy, usar um modelo para a\n",
    "categoria principal, e outro para cada sub categoria\n",
    "* check for linear separability and justify using or not using SVM\n",
    "* it's a classification problem, not a regression one\n"
   ]
  },
  {
   "cell_type": "markdown",
   "metadata": {},
   "source": [
    "## Results"
   ]
  },
  {
   "cell_type": "markdown",
   "metadata": {},
   "source": []
  },
  {
   "cell_type": "markdown",
   "metadata": {},
   "source": [
    "#### Model Experimentation"
   ]
  },
  {
   "cell_type": "markdown",
   "metadata": {},
   "source": [
    "Converting values to one-hot and scaling\n",
    "\n",
    "* scaling: most models interpret numbers as signal intensity, that means converting numeric values from unbounded scales into between 0 and 1, while mantaining its original order. \n",
    "  Ages 18 and 99 could become 0.1 and 0.99, depending on the demography on the dataset\n",
    "\n",
    "* one-hot: some values that represent classes becomes more evident for the model if it's classes are not represented by a region between 0 and 1, but with each class having it's own value, that can be either 0 or 1. \n",
    "\n",
    "    So a value that between 0 and 0.5 represents heads, and >0.5 and 1 represent tails, would be better represented if we increase a dimension for each class\n",
    "\n",
    "    becoming (0,1) for heads and (1,0) for tails\n"
   ]
  },
  {
   "cell_type": "code",
   "execution_count": 36,
   "metadata": {},
   "outputs": [
    {
     "name": "stdout",
     "output_type": "stream",
     "text": [
      "estab_id classes: 20\n",
      "sexo_id classes: 2\n",
      "city_id classes: 10\n",
      "city_estab_id classes: 121\n",
      "state_id classes: 2\n",
      "estab_id classes: 20\n",
      "sexo_id classes: 2\n",
      "city_id classes: 10\n",
      "city_estab_id classes: 121\n",
      "state_id classes: 2\n"
     ]
    },
    {
     "data": {
      "text/html": [
       "<div>\n",
       "<style scoped>\n",
       "    .dataframe tbody tr th:only-of-type {\n",
       "        vertical-align: middle;\n",
       "    }\n",
       "\n",
       "    .dataframe tbody tr th {\n",
       "        vertical-align: top;\n",
       "    }\n",
       "\n",
       "    .dataframe thead th {\n",
       "        text-align: right;\n",
       "    }\n",
       "</style>\n",
       "<table border=\"1\" class=\"dataframe\">\n",
       "  <thead>\n",
       "    <tr style=\"text-align: right;\">\n",
       "      <th></th>\n",
       "      <th>sexo_id_2</th>\n",
       "      <th>sexo_id_1</th>\n",
       "      <th>city_id_1</th>\n",
       "      <th>city_id_4</th>\n",
       "      <th>city_id_8</th>\n",
       "      <th>city_id_2</th>\n",
       "      <th>city_id_0</th>\n",
       "      <th>city_id_9</th>\n",
       "      <th>city_id_6</th>\n",
       "      <th>city_id_5</th>\n",
       "      <th>...</th>\n",
       "      <th>city_estab_id_123</th>\n",
       "      <th>city_estab_id_67</th>\n",
       "      <th>city_estab_id_135</th>\n",
       "      <th>city_estab_id_137</th>\n",
       "      <th>state_id_0</th>\n",
       "      <th>state_id_1</th>\n",
       "      <th>amount</th>\n",
       "      <th>total_limit</th>\n",
       "      <th>age</th>\n",
       "      <th>data_dt</th>\n",
       "    </tr>\n",
       "  </thead>\n",
       "  <tbody>\n",
       "    <tr>\n",
       "      <th>4943</th>\n",
       "      <td>0</td>\n",
       "      <td>1</td>\n",
       "      <td>1</td>\n",
       "      <td>0</td>\n",
       "      <td>0</td>\n",
       "      <td>0</td>\n",
       "      <td>0</td>\n",
       "      <td>0</td>\n",
       "      <td>0</td>\n",
       "      <td>0</td>\n",
       "      <td>...</td>\n",
       "      <td>0</td>\n",
       "      <td>0</td>\n",
       "      <td>0</td>\n",
       "      <td>0</td>\n",
       "      <td>1</td>\n",
       "      <td>0</td>\n",
       "      <td>0.006181</td>\n",
       "      <td>0.206549</td>\n",
       "      <td>0.515152</td>\n",
       "      <td>0.699005</td>\n",
       "    </tr>\n",
       "    <tr>\n",
       "      <th>3790</th>\n",
       "      <td>0</td>\n",
       "      <td>1</td>\n",
       "      <td>1</td>\n",
       "      <td>0</td>\n",
       "      <td>0</td>\n",
       "      <td>0</td>\n",
       "      <td>0</td>\n",
       "      <td>0</td>\n",
       "      <td>0</td>\n",
       "      <td>0</td>\n",
       "      <td>...</td>\n",
       "      <td>0</td>\n",
       "      <td>0</td>\n",
       "      <td>0</td>\n",
       "      <td>0</td>\n",
       "      <td>1</td>\n",
       "      <td>0</td>\n",
       "      <td>0.012258</td>\n",
       "      <td>0.084383</td>\n",
       "      <td>0.212121</td>\n",
       "      <td>0.276119</td>\n",
       "    </tr>\n",
       "    <tr>\n",
       "      <th>4672</th>\n",
       "      <td>1</td>\n",
       "      <td>0</td>\n",
       "      <td>0</td>\n",
       "      <td>1</td>\n",
       "      <td>0</td>\n",
       "      <td>0</td>\n",
       "      <td>0</td>\n",
       "      <td>0</td>\n",
       "      <td>0</td>\n",
       "      <td>0</td>\n",
       "      <td>...</td>\n",
       "      <td>0</td>\n",
       "      <td>0</td>\n",
       "      <td>0</td>\n",
       "      <td>0</td>\n",
       "      <td>1</td>\n",
       "      <td>0</td>\n",
       "      <td>0.009076</td>\n",
       "      <td>0.098237</td>\n",
       "      <td>0.242424</td>\n",
       "      <td>0.373134</td>\n",
       "    </tr>\n",
       "    <tr>\n",
       "      <th>4068</th>\n",
       "      <td>0</td>\n",
       "      <td>1</td>\n",
       "      <td>1</td>\n",
       "      <td>0</td>\n",
       "      <td>0</td>\n",
       "      <td>0</td>\n",
       "      <td>0</td>\n",
       "      <td>0</td>\n",
       "      <td>0</td>\n",
       "      <td>0</td>\n",
       "      <td>...</td>\n",
       "      <td>0</td>\n",
       "      <td>0</td>\n",
       "      <td>0</td>\n",
       "      <td>0</td>\n",
       "      <td>1</td>\n",
       "      <td>0</td>\n",
       "      <td>0.025537</td>\n",
       "      <td>0.084383</td>\n",
       "      <td>0.212121</td>\n",
       "      <td>0.721393</td>\n",
       "    </tr>\n",
       "    <tr>\n",
       "      <th>88</th>\n",
       "      <td>1</td>\n",
       "      <td>0</td>\n",
       "      <td>0</td>\n",
       "      <td>0</td>\n",
       "      <td>0</td>\n",
       "      <td>0</td>\n",
       "      <td>1</td>\n",
       "      <td>0</td>\n",
       "      <td>0</td>\n",
       "      <td>0</td>\n",
       "      <td>...</td>\n",
       "      <td>0</td>\n",
       "      <td>0</td>\n",
       "      <td>0</td>\n",
       "      <td>0</td>\n",
       "      <td>1</td>\n",
       "      <td>0</td>\n",
       "      <td>0.005485</td>\n",
       "      <td>0.110831</td>\n",
       "      <td>0.515152</td>\n",
       "      <td>0.833333</td>\n",
       "    </tr>\n",
       "    <tr>\n",
       "      <th>...</th>\n",
       "      <td>...</td>\n",
       "      <td>...</td>\n",
       "      <td>...</td>\n",
       "      <td>...</td>\n",
       "      <td>...</td>\n",
       "      <td>...</td>\n",
       "      <td>...</td>\n",
       "      <td>...</td>\n",
       "      <td>...</td>\n",
       "      <td>...</td>\n",
       "      <td>...</td>\n",
       "      <td>...</td>\n",
       "      <td>...</td>\n",
       "      <td>...</td>\n",
       "      <td>...</td>\n",
       "      <td>...</td>\n",
       "      <td>...</td>\n",
       "      <td>...</td>\n",
       "      <td>...</td>\n",
       "      <td>...</td>\n",
       "      <td>...</td>\n",
       "    </tr>\n",
       "    <tr>\n",
       "      <th>1070</th>\n",
       "      <td>1</td>\n",
       "      <td>0</td>\n",
       "      <td>1</td>\n",
       "      <td>0</td>\n",
       "      <td>0</td>\n",
       "      <td>0</td>\n",
       "      <td>0</td>\n",
       "      <td>0</td>\n",
       "      <td>0</td>\n",
       "      <td>0</td>\n",
       "      <td>...</td>\n",
       "      <td>0</td>\n",
       "      <td>0</td>\n",
       "      <td>0</td>\n",
       "      <td>0</td>\n",
       "      <td>1</td>\n",
       "      <td>0</td>\n",
       "      <td>0.009727</td>\n",
       "      <td>0.123426</td>\n",
       "      <td>0.424242</td>\n",
       "      <td>0.592040</td>\n",
       "    </tr>\n",
       "    <tr>\n",
       "      <th>3472</th>\n",
       "      <td>1</td>\n",
       "      <td>0</td>\n",
       "      <td>1</td>\n",
       "      <td>0</td>\n",
       "      <td>0</td>\n",
       "      <td>0</td>\n",
       "      <td>0</td>\n",
       "      <td>0</td>\n",
       "      <td>0</td>\n",
       "      <td>0</td>\n",
       "      <td>...</td>\n",
       "      <td>0</td>\n",
       "      <td>0</td>\n",
       "      <td>0</td>\n",
       "      <td>0</td>\n",
       "      <td>1</td>\n",
       "      <td>0</td>\n",
       "      <td>0.006441</td>\n",
       "      <td>0.093199</td>\n",
       "      <td>0.424242</td>\n",
       "      <td>0.166667</td>\n",
       "    </tr>\n",
       "    <tr>\n",
       "      <th>1746</th>\n",
       "      <td>1</td>\n",
       "      <td>0</td>\n",
       "      <td>0</td>\n",
       "      <td>1</td>\n",
       "      <td>0</td>\n",
       "      <td>0</td>\n",
       "      <td>0</td>\n",
       "      <td>0</td>\n",
       "      <td>0</td>\n",
       "      <td>0</td>\n",
       "      <td>...</td>\n",
       "      <td>0</td>\n",
       "      <td>0</td>\n",
       "      <td>0</td>\n",
       "      <td>0</td>\n",
       "      <td>1</td>\n",
       "      <td>0</td>\n",
       "      <td>0.042925</td>\n",
       "      <td>0.098237</td>\n",
       "      <td>0.242424</td>\n",
       "      <td>0.793532</td>\n",
       "    </tr>\n",
       "    <tr>\n",
       "      <th>2783</th>\n",
       "      <td>1</td>\n",
       "      <td>0</td>\n",
       "      <td>1</td>\n",
       "      <td>0</td>\n",
       "      <td>0</td>\n",
       "      <td>0</td>\n",
       "      <td>0</td>\n",
       "      <td>0</td>\n",
       "      <td>0</td>\n",
       "      <td>0</td>\n",
       "      <td>...</td>\n",
       "      <td>0</td>\n",
       "      <td>0</td>\n",
       "      <td>0</td>\n",
       "      <td>0</td>\n",
       "      <td>1</td>\n",
       "      <td>0</td>\n",
       "      <td>0.009434</td>\n",
       "      <td>0.060453</td>\n",
       "      <td>0.303030</td>\n",
       "      <td>0.186567</td>\n",
       "    </tr>\n",
       "    <tr>\n",
       "      <th>2916</th>\n",
       "      <td>0</td>\n",
       "      <td>1</td>\n",
       "      <td>1</td>\n",
       "      <td>0</td>\n",
       "      <td>0</td>\n",
       "      <td>0</td>\n",
       "      <td>0</td>\n",
       "      <td>0</td>\n",
       "      <td>0</td>\n",
       "      <td>0</td>\n",
       "      <td>...</td>\n",
       "      <td>0</td>\n",
       "      <td>0</td>\n",
       "      <td>0</td>\n",
       "      <td>0</td>\n",
       "      <td>1</td>\n",
       "      <td>0</td>\n",
       "      <td>0.005527</td>\n",
       "      <td>0.181360</td>\n",
       "      <td>0.303030</td>\n",
       "      <td>0.460199</td>\n",
       "    </tr>\n",
       "  </tbody>\n",
       "</table>\n",
       "<p>937 rows × 139 columns</p>\n",
       "</div>"
      ],
      "text/plain": [
       "      sexo_id_2  sexo_id_1  city_id_1  city_id_4  city_id_8  city_id_2  \\\n",
       "4943          0          1          1          0          0          0   \n",
       "3790          0          1          1          0          0          0   \n",
       "4672          1          0          0          1          0          0   \n",
       "4068          0          1          1          0          0          0   \n",
       "88            1          0          0          0          0          0   \n",
       "...         ...        ...        ...        ...        ...        ...   \n",
       "1070          1          0          1          0          0          0   \n",
       "3472          1          0          1          0          0          0   \n",
       "1746          1          0          0          1          0          0   \n",
       "2783          1          0          1          0          0          0   \n",
       "2916          0          1          1          0          0          0   \n",
       "\n",
       "      city_id_0  city_id_9  city_id_6  city_id_5  ...  city_estab_id_123  \\\n",
       "4943          0          0          0          0  ...                  0   \n",
       "3790          0          0          0          0  ...                  0   \n",
       "4672          0          0          0          0  ...                  0   \n",
       "4068          0          0          0          0  ...                  0   \n",
       "88            1          0          0          0  ...                  0   \n",
       "...         ...        ...        ...        ...  ...                ...   \n",
       "1070          0          0          0          0  ...                  0   \n",
       "3472          0          0          0          0  ...                  0   \n",
       "1746          0          0          0          0  ...                  0   \n",
       "2783          0          0          0          0  ...                  0   \n",
       "2916          0          0          0          0  ...                  0   \n",
       "\n",
       "      city_estab_id_67  city_estab_id_135  city_estab_id_137  state_id_0  \\\n",
       "4943                 0                  0                  0           1   \n",
       "3790                 0                  0                  0           1   \n",
       "4672                 0                  0                  0           1   \n",
       "4068                 0                  0                  0           1   \n",
       "88                   0                  0                  0           1   \n",
       "...                ...                ...                ...         ...   \n",
       "1070                 0                  0                  0           1   \n",
       "3472                 0                  0                  0           1   \n",
       "1746                 0                  0                  0           1   \n",
       "2783                 0                  0                  0           1   \n",
       "2916                 0                  0                  0           1   \n",
       "\n",
       "      state_id_1    amount  total_limit       age   data_dt  \n",
       "4943           0  0.006181     0.206549  0.515152  0.699005  \n",
       "3790           0  0.012258     0.084383  0.212121  0.276119  \n",
       "4672           0  0.009076     0.098237  0.242424  0.373134  \n",
       "4068           0  0.025537     0.084383  0.212121  0.721393  \n",
       "88             0  0.005485     0.110831  0.515152  0.833333  \n",
       "...          ...       ...          ...       ...       ...  \n",
       "1070           0  0.009727     0.123426  0.424242  0.592040  \n",
       "3472           0  0.006441     0.093199  0.424242  0.166667  \n",
       "1746           0  0.042925     0.098237  0.242424  0.793532  \n",
       "2783           0  0.009434     0.060453  0.303030  0.186567  \n",
       "2916           0  0.005527     0.181360  0.303030  0.460199  \n",
       "\n",
       "[937 rows x 139 columns]"
      ]
     },
     "execution_count": 36,
     "metadata": {},
     "output_type": "execute_result"
    }
   ],
   "source": [
    "\n",
    "def col_to_one_hot(df_ref, df_input, col_name, classes=None):\n",
    "    df_out = df_input.copy()\n",
    "    if classes:\n",
    "        values = classes\n",
    "    else:\n",
    "        values = df_ref[col_name].drop_duplicates().values.tolist()\n",
    "    print(f\"{col_name} classes: {len(values)}\")\n",
    "    names = {f\"{col_name}_{v}\":v for v in values}\n",
    "    for k in names:\n",
    "        df_out[k] = df_ref[col_name].apply(lambda x: 1 if x==names[k] else 0)\n",
    "    return df_out, values\n",
    "\n",
    "def col_to_scaled(df_ref, df_input, col_name):\n",
    "    df_input = df_input.copy()\n",
    "    max_v = df_ref[col_name].max()\n",
    "    min_v = df_ref[col_name].min()\n",
    "    df_input[col_name] = df_ref[col_name].apply(lambda x: (x-min_v)/(max_v-min_v))\n",
    "    return df_input\n",
    "\n",
    "#df_numeric['sexo_id'].drop_duplicates().values.tolist()\n",
    "\n",
    "df_X_train = pd.DataFrame({})\n",
    "df_y_train = pd.DataFrame({})\n",
    "\n",
    "df_X_test = pd.DataFrame({})\n",
    "df_y_test = pd.DataFrame({})\n",
    "\n",
    "# Train\n",
    "df_y_train, estab_id_classes = col_to_one_hot(df_train, df_y_train, 'estab_id')\n",
    "\n",
    "#df_X_train, client_id_classes = col_to_one_hot(df_train, df_X_train, 'client_id')\n",
    "df_X_train, sexo_id_classes = col_to_one_hot(df_train, df_X_train, 'sexo_id')\n",
    "df_X_train, city_id_classes = col_to_one_hot(df_train, df_X_train, 'city_id')\n",
    "df_X_train, city_estab_id_classes = col_to_one_hot(df_train, df_X_train, 'city_estab_id')\n",
    "df_X_train, state_id_classes = col_to_one_hot(df_train, df_X_train, 'state_id')\n",
    "df_X_train = col_to_scaled(df_train, df_X_train, 'amount')\n",
    "df_X_train = col_to_scaled(df_train, df_X_train, 'total_limit')\n",
    "df_X_train = col_to_scaled(df_train, df_X_train, 'age')\n",
    "df_X_train = col_to_scaled(df_train, df_X_train, 'data_dt')\n",
    "\n",
    "# Test\n",
    "df_y_test, c = col_to_one_hot(df_test, df_y_test, 'estab_id', classes=estab_id_classes)\n",
    "\n",
    "#df_X_test, c = col_to_one_hot(df_test, df_X_test, 'client_id', classes=client_id_classes)\n",
    "df_X_test, c = col_to_one_hot(df_test, df_X_test, 'sexo_id', classes=sexo_id_classes)\n",
    "df_X_test, c = col_to_one_hot(df_test, df_X_test, 'city_id', classes=city_id_classes)\n",
    "df_X_test, c = col_to_one_hot(df_test, df_X_test, 'city_estab_id', classes=city_estab_id_classes)\n",
    "df_X_test, c = col_to_one_hot(df_test, df_X_test, 'state_id', classes=state_id_classes)\n",
    "df_X_test = col_to_scaled(df_test, df_X_test, 'amount')\n",
    "df_X_test = col_to_scaled(df_test, df_X_test, 'total_limit')\n",
    "df_X_test = col_to_scaled(df_test, df_X_test, 'age')\n",
    "df_X_test = col_to_scaled(df_test, df_X_test, 'data_dt')\n",
    "\n",
    "\n",
    "\n",
    "df_X_test"
   ]
  },
  {
   "cell_type": "markdown",
   "metadata": {},
   "source": [
    "Checking if train and test has the same number of columns:"
   ]
  },
  {
   "cell_type": "code",
   "execution_count": 37,
   "metadata": {},
   "outputs": [
    {
     "name": "stdout",
     "output_type": "stream",
     "text": [
      "139 = 139\n",
      "20 = 20\n"
     ]
    }
   ],
   "source": [
    "print(f\"{df_X_train.shape[1]} = {df_X_test.shape[1]}\")\n",
    "print(f\"{df_y_train.shape[1]} = {df_y_test.shape[1]}\")"
   ]
  },
  {
   "cell_type": "markdown",
   "metadata": {},
   "source": [
    " Now let's add the raw data to the model to see how it goes\n",
    " \n",
    " A SVM model doesn't perform when data are not linear separable. It also has only one output node, so our task \n",
    " \n",
    " of multi classification can not be performed by a single svm if we want a one-hot output\n",
    " \n",
    " (and for some features, not by any SVM at all, because SVM does not suparates data that are not linear separable)\n",
    " \n",
    "---\n",
    "\n",
    " But as an initial experiment let's use a One-Vs-All method, it uses a SVM model for each feature, and compare the result of each one\n",
    " \n",
    " to find the one with the most intense output signal. This method doesn't solve our linear separability problem, but solves our multi-class one"
   ]
  },
  {
   "cell_type": "code",
   "execution_count": 38,
   "metadata": {},
   "outputs": [
    {
     "data": {
      "text/plain": [
       "0.21237993596584845"
      ]
     },
     "execution_count": 38,
     "metadata": {},
     "output_type": "execute_result"
    }
   ],
   "source": [
    "X = np.array(df_X_train)\n",
    "y = np.array(df_y_train)\n",
    "X_test = np.array(df_X_test)\n",
    "y_test = np.array(df_y_test)\n",
    "\n",
    "# one vs all method (for insight on each individual feature)\n",
    "lsvc = OneVsRestClassifier(LinearSVC(random_state=0))\n",
    "lsvc.fit(X, y)\n",
    "pred = lsvc.predict(X_test)\n",
    "metrics.accuracy_score(pred, y_test)\n"
   ]
  },
  {
   "cell_type": "markdown",
   "metadata": {},
   "source": [
    "We can see that it reached a 21% accuracy score. Mostly due to the region and client features\n",
    "\n",
    "This behavior was partly predicted by our correlation analysis back then, but the continuous features (total_limit, etc...) did not perform\n",
    "\n",
    "as expected. It's possible that it occurs because they are not linear separable as said earlier\n",
    "\n",
    "---"
   ]
  },
  {
   "cell_type": "markdown",
   "metadata": {},
   "source": [
    "Now let's add our engineered features and see how it changes the model' performance:"
   ]
  },
  {
   "cell_type": "code",
   "execution_count": 161,
   "metadata": {},
   "outputs": [
    {
     "name": "stdout",
     "output_type": "stream",
     "text": [
      "id_pref classes: 5\n",
      "id_pref classes: 5\n"
     ]
    },
    {
     "name": "stderr",
     "output_type": "stream",
     "text": [
      "<ipython-input-161-042d1bf13282>:1: SettingWithCopyWarning: \n",
      "A value is trying to be set on a copy of a slice from a DataFrame.\n",
      "Try using .loc[row_indexer,col_indexer] = value instead\n",
      "\n",
      "See the caveats in the documentation: https://pandas.pydata.org/pandas-docs/stable/user_guide/indexing.html#returning-a-view-versus-a-copy\n",
      "  df_train['id_pref'] = df_train['client_id'].map(id_to_pref_estab)\n",
      "<ipython-input-161-042d1bf13282>:2: SettingWithCopyWarning: \n",
      "A value is trying to be set on a copy of a slice from a DataFrame.\n",
      "Try using .loc[row_indexer,col_indexer] = value instead\n",
      "\n",
      "See the caveats in the documentation: https://pandas.pydata.org/pandas-docs/stable/user_guide/indexing.html#returning-a-view-versus-a-copy\n",
      "  df_test['id_pref'] = df_test['client_id'].map(id_to_pref_estab)\n"
     ]
    },
    {
     "data": {
      "text/html": [
       "<div>\n",
       "<style scoped>\n",
       "    .dataframe tbody tr th:only-of-type {\n",
       "        vertical-align: middle;\n",
       "    }\n",
       "\n",
       "    .dataframe tbody tr th {\n",
       "        vertical-align: top;\n",
       "    }\n",
       "\n",
       "    .dataframe thead th {\n",
       "        text-align: right;\n",
       "    }\n",
       "</style>\n",
       "<table border=\"1\" class=\"dataframe\">\n",
       "  <thead>\n",
       "    <tr style=\"text-align: right;\">\n",
       "      <th></th>\n",
       "      <th>sexo_id_2</th>\n",
       "      <th>sexo_id_1</th>\n",
       "      <th>city_id_1</th>\n",
       "      <th>city_id_4</th>\n",
       "      <th>city_id_8</th>\n",
       "      <th>city_id_2</th>\n",
       "      <th>city_id_0</th>\n",
       "      <th>city_id_9</th>\n",
       "      <th>city_id_6</th>\n",
       "      <th>city_id_5</th>\n",
       "      <th>...</th>\n",
       "      <th>state_id_1</th>\n",
       "      <th>amount</th>\n",
       "      <th>total_limit</th>\n",
       "      <th>age</th>\n",
       "      <th>data_dt</th>\n",
       "      <th>id_pref_11</th>\n",
       "      <th>id_pref_0</th>\n",
       "      <th>id_pref_6</th>\n",
       "      <th>id_pref_13</th>\n",
       "      <th>id_pref_4</th>\n",
       "    </tr>\n",
       "  </thead>\n",
       "  <tbody>\n",
       "    <tr>\n",
       "      <th>4943</th>\n",
       "      <td>0</td>\n",
       "      <td>1</td>\n",
       "      <td>1</td>\n",
       "      <td>0</td>\n",
       "      <td>0</td>\n",
       "      <td>0</td>\n",
       "      <td>0</td>\n",
       "      <td>0</td>\n",
       "      <td>0</td>\n",
       "      <td>0</td>\n",
       "      <td>...</td>\n",
       "      <td>0</td>\n",
       "      <td>0.006181</td>\n",
       "      <td>0.206549</td>\n",
       "      <td>0.515152</td>\n",
       "      <td>0.699005</td>\n",
       "      <td>NaN</td>\n",
       "      <td>NaN</td>\n",
       "      <td>NaN</td>\n",
       "      <td>NaN</td>\n",
       "      <td>NaN</td>\n",
       "    </tr>\n",
       "    <tr>\n",
       "      <th>3790</th>\n",
       "      <td>0</td>\n",
       "      <td>1</td>\n",
       "      <td>1</td>\n",
       "      <td>0</td>\n",
       "      <td>0</td>\n",
       "      <td>0</td>\n",
       "      <td>0</td>\n",
       "      <td>0</td>\n",
       "      <td>0</td>\n",
       "      <td>0</td>\n",
       "      <td>...</td>\n",
       "      <td>0</td>\n",
       "      <td>0.012258</td>\n",
       "      <td>0.084383</td>\n",
       "      <td>0.212121</td>\n",
       "      <td>0.276119</td>\n",
       "      <td>NaN</td>\n",
       "      <td>NaN</td>\n",
       "      <td>NaN</td>\n",
       "      <td>NaN</td>\n",
       "      <td>NaN</td>\n",
       "    </tr>\n",
       "    <tr>\n",
       "      <th>4672</th>\n",
       "      <td>1</td>\n",
       "      <td>0</td>\n",
       "      <td>0</td>\n",
       "      <td>1</td>\n",
       "      <td>0</td>\n",
       "      <td>0</td>\n",
       "      <td>0</td>\n",
       "      <td>0</td>\n",
       "      <td>0</td>\n",
       "      <td>0</td>\n",
       "      <td>...</td>\n",
       "      <td>0</td>\n",
       "      <td>0.009076</td>\n",
       "      <td>0.098237</td>\n",
       "      <td>0.242424</td>\n",
       "      <td>0.373134</td>\n",
       "      <td>NaN</td>\n",
       "      <td>NaN</td>\n",
       "      <td>NaN</td>\n",
       "      <td>NaN</td>\n",
       "      <td>NaN</td>\n",
       "    </tr>\n",
       "    <tr>\n",
       "      <th>4068</th>\n",
       "      <td>0</td>\n",
       "      <td>1</td>\n",
       "      <td>1</td>\n",
       "      <td>0</td>\n",
       "      <td>0</td>\n",
       "      <td>0</td>\n",
       "      <td>0</td>\n",
       "      <td>0</td>\n",
       "      <td>0</td>\n",
       "      <td>0</td>\n",
       "      <td>...</td>\n",
       "      <td>0</td>\n",
       "      <td>0.025537</td>\n",
       "      <td>0.084383</td>\n",
       "      <td>0.212121</td>\n",
       "      <td>0.721393</td>\n",
       "      <td>NaN</td>\n",
       "      <td>NaN</td>\n",
       "      <td>NaN</td>\n",
       "      <td>NaN</td>\n",
       "      <td>NaN</td>\n",
       "    </tr>\n",
       "    <tr>\n",
       "      <th>88</th>\n",
       "      <td>1</td>\n",
       "      <td>0</td>\n",
       "      <td>0</td>\n",
       "      <td>0</td>\n",
       "      <td>0</td>\n",
       "      <td>0</td>\n",
       "      <td>1</td>\n",
       "      <td>0</td>\n",
       "      <td>0</td>\n",
       "      <td>0</td>\n",
       "      <td>...</td>\n",
       "      <td>0</td>\n",
       "      <td>0.005485</td>\n",
       "      <td>0.110831</td>\n",
       "      <td>0.515152</td>\n",
       "      <td>0.833333</td>\n",
       "      <td>NaN</td>\n",
       "      <td>NaN</td>\n",
       "      <td>NaN</td>\n",
       "      <td>NaN</td>\n",
       "      <td>NaN</td>\n",
       "    </tr>\n",
       "    <tr>\n",
       "      <th>...</th>\n",
       "      <td>...</td>\n",
       "      <td>...</td>\n",
       "      <td>...</td>\n",
       "      <td>...</td>\n",
       "      <td>...</td>\n",
       "      <td>...</td>\n",
       "      <td>...</td>\n",
       "      <td>...</td>\n",
       "      <td>...</td>\n",
       "      <td>...</td>\n",
       "      <td>...</td>\n",
       "      <td>...</td>\n",
       "      <td>...</td>\n",
       "      <td>...</td>\n",
       "      <td>...</td>\n",
       "      <td>...</td>\n",
       "      <td>...</td>\n",
       "      <td>...</td>\n",
       "      <td>...</td>\n",
       "      <td>...</td>\n",
       "      <td>...</td>\n",
       "    </tr>\n",
       "    <tr>\n",
       "      <th>1070</th>\n",
       "      <td>1</td>\n",
       "      <td>0</td>\n",
       "      <td>1</td>\n",
       "      <td>0</td>\n",
       "      <td>0</td>\n",
       "      <td>0</td>\n",
       "      <td>0</td>\n",
       "      <td>0</td>\n",
       "      <td>0</td>\n",
       "      <td>0</td>\n",
       "      <td>...</td>\n",
       "      <td>0</td>\n",
       "      <td>0.009727</td>\n",
       "      <td>0.123426</td>\n",
       "      <td>0.424242</td>\n",
       "      <td>0.592040</td>\n",
       "      <td>NaN</td>\n",
       "      <td>NaN</td>\n",
       "      <td>NaN</td>\n",
       "      <td>NaN</td>\n",
       "      <td>NaN</td>\n",
       "    </tr>\n",
       "    <tr>\n",
       "      <th>3472</th>\n",
       "      <td>1</td>\n",
       "      <td>0</td>\n",
       "      <td>1</td>\n",
       "      <td>0</td>\n",
       "      <td>0</td>\n",
       "      <td>0</td>\n",
       "      <td>0</td>\n",
       "      <td>0</td>\n",
       "      <td>0</td>\n",
       "      <td>0</td>\n",
       "      <td>...</td>\n",
       "      <td>0</td>\n",
       "      <td>0.006441</td>\n",
       "      <td>0.093199</td>\n",
       "      <td>0.424242</td>\n",
       "      <td>0.166667</td>\n",
       "      <td>NaN</td>\n",
       "      <td>NaN</td>\n",
       "      <td>NaN</td>\n",
       "      <td>NaN</td>\n",
       "      <td>NaN</td>\n",
       "    </tr>\n",
       "    <tr>\n",
       "      <th>1746</th>\n",
       "      <td>1</td>\n",
       "      <td>0</td>\n",
       "      <td>0</td>\n",
       "      <td>1</td>\n",
       "      <td>0</td>\n",
       "      <td>0</td>\n",
       "      <td>0</td>\n",
       "      <td>0</td>\n",
       "      <td>0</td>\n",
       "      <td>0</td>\n",
       "      <td>...</td>\n",
       "      <td>0</td>\n",
       "      <td>0.042925</td>\n",
       "      <td>0.098237</td>\n",
       "      <td>0.242424</td>\n",
       "      <td>0.793532</td>\n",
       "      <td>NaN</td>\n",
       "      <td>NaN</td>\n",
       "      <td>NaN</td>\n",
       "      <td>NaN</td>\n",
       "      <td>NaN</td>\n",
       "    </tr>\n",
       "    <tr>\n",
       "      <th>2783</th>\n",
       "      <td>1</td>\n",
       "      <td>0</td>\n",
       "      <td>1</td>\n",
       "      <td>0</td>\n",
       "      <td>0</td>\n",
       "      <td>0</td>\n",
       "      <td>0</td>\n",
       "      <td>0</td>\n",
       "      <td>0</td>\n",
       "      <td>0</td>\n",
       "      <td>...</td>\n",
       "      <td>0</td>\n",
       "      <td>0.009434</td>\n",
       "      <td>0.060453</td>\n",
       "      <td>0.303030</td>\n",
       "      <td>0.186567</td>\n",
       "      <td>NaN</td>\n",
       "      <td>NaN</td>\n",
       "      <td>NaN</td>\n",
       "      <td>NaN</td>\n",
       "      <td>NaN</td>\n",
       "    </tr>\n",
       "    <tr>\n",
       "      <th>2916</th>\n",
       "      <td>0</td>\n",
       "      <td>1</td>\n",
       "      <td>1</td>\n",
       "      <td>0</td>\n",
       "      <td>0</td>\n",
       "      <td>0</td>\n",
       "      <td>0</td>\n",
       "      <td>0</td>\n",
       "      <td>0</td>\n",
       "      <td>0</td>\n",
       "      <td>...</td>\n",
       "      <td>0</td>\n",
       "      <td>0.005527</td>\n",
       "      <td>0.181360</td>\n",
       "      <td>0.303030</td>\n",
       "      <td>0.460199</td>\n",
       "      <td>NaN</td>\n",
       "      <td>NaN</td>\n",
       "      <td>NaN</td>\n",
       "      <td>NaN</td>\n",
       "      <td>NaN</td>\n",
       "    </tr>\n",
       "  </tbody>\n",
       "</table>\n",
       "<p>937 rows × 144 columns</p>\n",
       "</div>"
      ],
      "text/plain": [
       "      sexo_id_2  sexo_id_1  city_id_1  city_id_4  city_id_8  city_id_2  \\\n",
       "4943          0          1          1          0          0          0   \n",
       "3790          0          1          1          0          0          0   \n",
       "4672          1          0          0          1          0          0   \n",
       "4068          0          1          1          0          0          0   \n",
       "88            1          0          0          0          0          0   \n",
       "...         ...        ...        ...        ...        ...        ...   \n",
       "1070          1          0          1          0          0          0   \n",
       "3472          1          0          1          0          0          0   \n",
       "1746          1          0          0          1          0          0   \n",
       "2783          1          0          1          0          0          0   \n",
       "2916          0          1          1          0          0          0   \n",
       "\n",
       "      city_id_0  city_id_9  city_id_6  city_id_5  ...  state_id_1    amount  \\\n",
       "4943          0          0          0          0  ...           0  0.006181   \n",
       "3790          0          0          0          0  ...           0  0.012258   \n",
       "4672          0          0          0          0  ...           0  0.009076   \n",
       "4068          0          0          0          0  ...           0  0.025537   \n",
       "88            1          0          0          0  ...           0  0.005485   \n",
       "...         ...        ...        ...        ...  ...         ...       ...   \n",
       "1070          0          0          0          0  ...           0  0.009727   \n",
       "3472          0          0          0          0  ...           0  0.006441   \n",
       "1746          0          0          0          0  ...           0  0.042925   \n",
       "2783          0          0          0          0  ...           0  0.009434   \n",
       "2916          0          0          0          0  ...           0  0.005527   \n",
       "\n",
       "      total_limit       age   data_dt  id_pref_11  id_pref_0  id_pref_6  \\\n",
       "4943     0.206549  0.515152  0.699005         NaN        NaN        NaN   \n",
       "3790     0.084383  0.212121  0.276119         NaN        NaN        NaN   \n",
       "4672     0.098237  0.242424  0.373134         NaN        NaN        NaN   \n",
       "4068     0.084383  0.212121  0.721393         NaN        NaN        NaN   \n",
       "88       0.110831  0.515152  0.833333         NaN        NaN        NaN   \n",
       "...           ...       ...       ...         ...        ...        ...   \n",
       "1070     0.123426  0.424242  0.592040         NaN        NaN        NaN   \n",
       "3472     0.093199  0.424242  0.166667         NaN        NaN        NaN   \n",
       "1746     0.098237  0.242424  0.793532         NaN        NaN        NaN   \n",
       "2783     0.060453  0.303030  0.186567         NaN        NaN        NaN   \n",
       "2916     0.181360  0.303030  0.460199         NaN        NaN        NaN   \n",
       "\n",
       "      id_pref_13  id_pref_4  \n",
       "4943         NaN        NaN  \n",
       "3790         NaN        NaN  \n",
       "4672         NaN        NaN  \n",
       "4068         NaN        NaN  \n",
       "88           NaN        NaN  \n",
       "...          ...        ...  \n",
       "1070         NaN        NaN  \n",
       "3472         NaN        NaN  \n",
       "1746         NaN        NaN  \n",
       "2783         NaN        NaN  \n",
       "2916         NaN        NaN  \n",
       "\n",
       "[937 rows x 144 columns]"
      ]
     },
     "execution_count": 161,
     "metadata": {},
     "output_type": "execute_result"
    }
   ],
   "source": [
    "df_train['id_pref'] = df_train['client_id'].map(id_to_pref_estab)\n",
    "df_test['id_pref'] = df_test['client_id'].map(id_to_pref_estab)\n",
    "\n",
    "df_X_train2 = df_X_train.copy()\n",
    "df_X_test2 = df_X_test.copy()\n",
    "\n",
    "df_X_train2, id_pref_classes = col_to_one_hot(df_train, df_X_train2, 'id_pref')\n",
    "df_X_test2, c = col_to_one_hot(df_test, df_X_test2, 'id_pref', classes=id_pref_classes)\n",
    "\n",
    "df_X_test2"
   ]
  },
  {
   "cell_type": "code",
   "execution_count": 41,
   "metadata": {},
   "outputs": [
    {
     "data": {
      "text/plain": [
       "0.2945570971184632"
      ]
     },
     "execution_count": 41,
     "metadata": {},
     "output_type": "execute_result"
    }
   ],
   "source": [
    "\n",
    "X2 = np.array(df_X_train2)\n",
    "y = np.array(df_y_train)\n",
    "X_test2 = np.array(df_X_test2)\n",
    "y_test = np.array(df_y_test)\n",
    "\n",
    "# one vs all method (for insight on each individual feature)\n",
    "lsvc2 = OneVsRestClassifier(LinearSVC(random_state=0))\n",
    "lsvc2.fit(X2, y)\n",
    "pred2 = lsvc2.predict(X_test2)\n",
    "metrics.accuracy_score(pred2, y_test)"
   ]
  },
  {
   "cell_type": "markdown",
   "metadata": {},
   "source": [
    "We can see that our new features improve the accuracy from 21% to 29%.\n",
    "\n",
    "The client_id features from our first test was removed, if we wasn't, the model would have 27% precision score\n",
    "\n",
    "Mantaining the client_id features makes the model ignore the new features that show the preferred establishment of that client, thus lowering the accuracy.\n",
    "\n",
    "So it was removed.\n",
    "\n",
    "also, this new feature doesn't increase as the number of clients increases, nor needs a new training for each new client\n",
    "\n",
    "while using raw client_ids does\n",
    "\n",
    "---"
   ]
  },
  {
   "cell_type": "markdown",
   "metadata": {},
   "source": [
    "To overcome the SVM' linear separability limitation, let's experiment with a multiple layer perceptron.\n",
    "\n",
    "it's capable of combining linear spaces from previous layers making more complex regions for classification.\n"
   ]
  },
  {
   "cell_type": "code",
   "execution_count": 42,
   "metadata": {},
   "outputs": [
    {
     "data": {
      "text/plain": [
       "0.31696905016008536"
      ]
     },
     "execution_count": 42,
     "metadata": {},
     "output_type": "execute_result"
    }
   ],
   "source": [
    "from sklearn.neural_network import MLPClassifier\n",
    "\n",
    "clf = MLPClassifier(random_state=1, max_iter=1000).fit(X2, y)\n",
    "clf.score(X_test2, y_test)"
   ]
  },
  {
   "cell_type": "markdown",
   "metadata": {},
   "source": [
    "\n",
    "as we can see, it performs better than SVM, and performs better than solely predicting by chosing the preferred estab_id of that client, as experimented earlier\n",
    "\n",
    "while the SVM model didn't.\n"
   ]
  },
  {
   "cell_type": "markdown",
   "metadata": {},
   "source": [
    "---\n",
    "\n",
    "Further testing with automated model searching (AutoML)\n",
    "\n",
    "Run time: approx 1 hour\n",
    "\n",
    "Accuracy Score: 28%"
   ]
  },
  {
   "cell_type": "markdown",
   "metadata": {},
   "source": [
    "from autosklearn import classification\n",
    "from sklearn import model_selection\n",
    "\n",
    "automl = classification.AutoSklearnClassifier()\n",
    "automl.fit(X2, y)\n",
    "y_hat = automl.predict(X_test2)\n",
    "print(\"Accuracy score\", metrics.accuracy_score(y_test, y_hat))"
   ]
  },
  {
   "cell_type": "markdown",
   "metadata": {},
   "source": [
    "# Conclusion\n",
    "* We obtained great insights from the impact of covid on credit data. We could measure how consumer behavior changed by looking at the increase on credit limit during\n",
    "    covid\n",
    "    \n",
    "* We also detected a sudden spike on spending that didn't last long, which made us reduce our dataset, removing data that is unlikely to occur in the future\n",
    "  \n",
    "* At the same period we detected an spike in spending on the flight sector and a decrease on hotel spending; which sounds counterintuitive, but not if we assume everyone was returning home and not doing tourism. (also a decrease in the majority of other industry sectors, like gas consumption)\n",
    "\n",
    "* It was observed a great increase in instability of credit, a trend that started around the same time covid started and didn't end as far as we could see on the dataset timeframe\n",
    "\n",
    "* We discovered a feature that can improve our model both on accuracy, and most importantly on scalability. Some features increase the complexity of our model by $O(n^2)$, with $n$ being the number of classes on a given feature (clients, cities etc...). By using preferences instead of client_id we make the input data constent in the future, and not increasing exponentially.\n"
   ]
  },
  {
   "cell_type": "markdown",
   "metadata": {},
   "source": [
    "# Challenges"
   ]
  },
  {
   "cell_type": "markdown",
   "metadata": {},
   "source": [
    "* Covid presented a major change in semantics of the data, this pattern pursued to the end of the timeframe of the data available,\n",
    "se we can't know for sure how this pattern persists \n",
    "\n",
    "    after the end of the dataset' timeline. \n",
    "    \n",
    "    If this pattern pursues for a long period, our model training and test should be focused on the period after february 2020. \n",
    "    \n",
    "    If it doesn't it should be focused on the period before january 2020\n",
    "Since this information is not available, the current model is a mix between those two periods\n",
    "\n",
    "* this challenge is not trivial to humans, that means that no feature is directly relevant for the classification task (as shown by the correlation matrix). Any textual \n",
    "feature (such as\n",
    "\n",
    "     stablishment name, product name or any textual transaction data presnt in the receipt data) could severely improve the model by\n",
    "     \n",
    "    \n",
    "    adding Natural Language Processing capabilities for the model.\n",
    "\n",
    "* Our model obtained an accuracy inferior from naive guessing based on client most frequent choice. But that doesn't necessarily mean that,\n",
    "\n",
    "    in a real world scenario, naive guessing would be a better approach than using machine learning, given our limited dataset with only 18 clients, being it divided into two economically different periods (pre-covid and covid)\n",
    "\n",
    "    While on a real world scenario we could upgrade the dataset with external data, more data from post covid, transaction data like establishment name (CNPJ) so we could \n",
    "use natural language processing, etc..."
   ]
  }
 ],
 "metadata": {
  "kernelspec": {
   "display_name": "Python 3.8.10 64-bit",
   "language": "python",
   "name": "python3"
  },
  "language_info": {
   "codemirror_mode": {
    "name": "ipython",
    "version": 3
   },
   "file_extension": ".py",
   "mimetype": "text/x-python",
   "name": "python",
   "nbconvert_exporter": "python",
   "pygments_lexer": "ipython3",
   "version": "3.8.10"
  },
  "orig_nbformat": 4,
  "vscode": {
   "interpreter": {
    "hash": "31f2aee4e71d21fbe5cf8b01ff0e069b9275f58929596ceb00d14d90e3e16cd6"
   }
  }
 },
 "nbformat": 4,
 "nbformat_minor": 2
}
